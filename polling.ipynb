{
 "cells": [
  {
   "cell_type": "markdown",
   "id": "752a5a3d",
   "metadata": {},
   "source": [
    "# **Model Development Demonstration using Polling 2016 Data**"
   ]
  },
  {
   "cell_type": "markdown",
   "id": "f8ae100d",
   "metadata": {},
   "source": [
    "Source: murach's Python for Data Analysis\n",
    "Author: Scott McCoy"
   ]
  },
  {
   "cell_type": "code",
   "execution_count": null,
   "id": "4902c8e3",
   "metadata": {},
   "outputs": [],
   "source": []
  },
  {
   "cell_type": "markdown",
   "id": "78a6fe97",
   "metadata": {
    "slideshow": {
     "slide_type": "slide"
    }
   },
   "source": [
    "## Part 1"
   ]
  },
  {
   "cell_type": "markdown",
   "id": "68d9229a",
   "metadata": {},
   "source": [
    "### Import Libraries"
   ]
  },
  {
   "cell_type": "code",
   "execution_count": 1,
   "id": "f04cb9b1",
   "metadata": {},
   "outputs": [],
   "source": [
    "import pandas as pd\n",
    "import seaborn as sns\n",
    "from urllib import request"
   ]
  },
  {
   "cell_type": "markdown",
   "id": "a9c2ed40",
   "metadata": {},
   "source": [
    "### Get The Data"
   ]
  },
  {
   "cell_type": "code",
   "execution_count": 2,
   "id": "e22ccd82",
   "metadata": {},
   "outputs": [],
   "source": [
    "poll_path = 'http://projects.fivethirtyeight.com/general-model/'\n",
    "filename = 'president_general_polls_2016.csv'\n",
    "request.urlretrieve(poll_path+filename, filename=filename)\n",
    "polls = pd.read_csv(filename)"
   ]
  },
  {
   "cell_type": "markdown",
   "id": "5d8abefe",
   "metadata": {},
   "source": [
    "## Part 2"
   ]
  },
  {
   "cell_type": "markdown",
   "id": "73c256e3",
   "metadata": {},
   "source": [
    "### Display the Data"
   ]
  },
  {
   "cell_type": "code",
   "execution_count": 3,
   "id": "1272ae0b",
   "metadata": {},
   "outputs": [],
   "source": [
    "#polls"
   ]
  },
  {
   "cell_type": "code",
   "execution_count": 4,
   "id": "01fadd97",
   "metadata": {},
   "outputs": [
    {
     "data": {
      "text/html": [
       "<div>\n",
       "<style scoped>\n",
       "    .dataframe tbody tr th:only-of-type {\n",
       "        vertical-align: middle;\n",
       "    }\n",
       "\n",
       "    .dataframe tbody tr th {\n",
       "        vertical-align: top;\n",
       "    }\n",
       "\n",
       "    .dataframe thead th {\n",
       "        text-align: right;\n",
       "    }\n",
       "</style>\n",
       "<table border=\"1\" class=\"dataframe\">\n",
       "  <thead>\n",
       "    <tr style=\"text-align: right;\">\n",
       "      <th></th>\n",
       "      <th>cycle</th>\n",
       "      <th>branch</th>\n",
       "      <th>type</th>\n",
       "      <th>matchup</th>\n",
       "      <th>forecastdate</th>\n",
       "      <th>state</th>\n",
       "      <th>startdate</th>\n",
       "      <th>enddate</th>\n",
       "      <th>pollster</th>\n",
       "      <th>grade</th>\n",
       "      <th>...</th>\n",
       "      <th>adjpoll_clinton</th>\n",
       "      <th>adjpoll_trump</th>\n",
       "      <th>adjpoll_johnson</th>\n",
       "      <th>adjpoll_mcmullin</th>\n",
       "      <th>multiversions</th>\n",
       "      <th>url</th>\n",
       "      <th>poll_id</th>\n",
       "      <th>question_id</th>\n",
       "      <th>createddate</th>\n",
       "      <th>timestamp</th>\n",
       "    </tr>\n",
       "  </thead>\n",
       "  <tbody>\n",
       "    <tr>\n",
       "      <th>0</th>\n",
       "      <td>2016</td>\n",
       "      <td>President</td>\n",
       "      <td>polls-plus</td>\n",
       "      <td>Clinton vs. Trump vs. Johnson</td>\n",
       "      <td>11/8/16</td>\n",
       "      <td>U.S.</td>\n",
       "      <td>11/3/2016</td>\n",
       "      <td>11/6/2016</td>\n",
       "      <td>ABC News/Washington Post</td>\n",
       "      <td>A+</td>\n",
       "      <td>...</td>\n",
       "      <td>45.20163</td>\n",
       "      <td>41.72430</td>\n",
       "      <td>4.626221</td>\n",
       "      <td>NaN</td>\n",
       "      <td>NaN</td>\n",
       "      <td>https://www.washingtonpost.com/news/the-fix/wp...</td>\n",
       "      <td>48630</td>\n",
       "      <td>76192</td>\n",
       "      <td>11/7/16</td>\n",
       "      <td>09:35:33  8 Nov 2016</td>\n",
       "    </tr>\n",
       "    <tr>\n",
       "      <th>1</th>\n",
       "      <td>2016</td>\n",
       "      <td>President</td>\n",
       "      <td>polls-plus</td>\n",
       "      <td>Clinton vs. Trump vs. Johnson</td>\n",
       "      <td>11/8/16</td>\n",
       "      <td>U.S.</td>\n",
       "      <td>11/1/2016</td>\n",
       "      <td>11/7/2016</td>\n",
       "      <td>Google Consumer Surveys</td>\n",
       "      <td>B</td>\n",
       "      <td>...</td>\n",
       "      <td>43.34557</td>\n",
       "      <td>41.21439</td>\n",
       "      <td>5.175792</td>\n",
       "      <td>NaN</td>\n",
       "      <td>NaN</td>\n",
       "      <td>https://datastudio.google.com/u/0/#/org//repor...</td>\n",
       "      <td>48847</td>\n",
       "      <td>76443</td>\n",
       "      <td>11/7/16</td>\n",
       "      <td>09:35:33  8 Nov 2016</td>\n",
       "    </tr>\n",
       "  </tbody>\n",
       "</table>\n",
       "<p>2 rows × 27 columns</p>\n",
       "</div>"
      ],
      "text/plain": [
       "   cycle     branch        type                        matchup forecastdate  \\\n",
       "0   2016  President  polls-plus  Clinton vs. Trump vs. Johnson      11/8/16   \n",
       "1   2016  President  polls-plus  Clinton vs. Trump vs. Johnson      11/8/16   \n",
       "\n",
       "  state  startdate    enddate                  pollster grade  ...  \\\n",
       "0  U.S.  11/3/2016  11/6/2016  ABC News/Washington Post    A+  ...   \n",
       "1  U.S.  11/1/2016  11/7/2016   Google Consumer Surveys     B  ...   \n",
       "\n",
       "   adjpoll_clinton adjpoll_trump  adjpoll_johnson  adjpoll_mcmullin  \\\n",
       "0         45.20163      41.72430         4.626221               NaN   \n",
       "1         43.34557      41.21439         5.175792               NaN   \n",
       "\n",
       "   multiversions                                                url  poll_id  \\\n",
       "0            NaN  https://www.washingtonpost.com/news/the-fix/wp...    48630   \n",
       "1            NaN  https://datastudio.google.com/u/0/#/org//repor...    48847   \n",
       "\n",
       "   question_id  createddate             timestamp  \n",
       "0        76192      11/7/16  09:35:33  8 Nov 2016  \n",
       "1        76443      11/7/16  09:35:33  8 Nov 2016  \n",
       "\n",
       "[2 rows x 27 columns]"
      ]
     },
     "execution_count": 4,
     "metadata": {},
     "output_type": "execute_result"
    }
   ],
   "source": [
    "polls.head(2)"
   ]
  },
  {
   "cell_type": "code",
   "execution_count": 5,
   "id": "087d0517",
   "metadata": {},
   "outputs": [
    {
     "data": {
      "text/html": [
       "<div>\n",
       "<style scoped>\n",
       "    .dataframe tbody tr th:only-of-type {\n",
       "        vertical-align: middle;\n",
       "    }\n",
       "\n",
       "    .dataframe tbody tr th {\n",
       "        vertical-align: top;\n",
       "    }\n",
       "\n",
       "    .dataframe thead th {\n",
       "        text-align: right;\n",
       "    }\n",
       "</style>\n",
       "<table border=\"1\" class=\"dataframe\">\n",
       "  <thead>\n",
       "    <tr style=\"text-align: right;\">\n",
       "      <th></th>\n",
       "      <th>cycle</th>\n",
       "      <th>branch</th>\n",
       "      <th>type</th>\n",
       "      <th>matchup</th>\n",
       "      <th>forecastdate</th>\n",
       "      <th>state</th>\n",
       "      <th>startdate</th>\n",
       "      <th>enddate</th>\n",
       "      <th>pollster</th>\n",
       "      <th>grade</th>\n",
       "      <th>...</th>\n",
       "      <th>adjpoll_clinton</th>\n",
       "      <th>adjpoll_trump</th>\n",
       "      <th>adjpoll_johnson</th>\n",
       "      <th>adjpoll_mcmullin</th>\n",
       "      <th>multiversions</th>\n",
       "      <th>url</th>\n",
       "      <th>poll_id</th>\n",
       "      <th>question_id</th>\n",
       "      <th>createddate</th>\n",
       "      <th>timestamp</th>\n",
       "    </tr>\n",
       "  </thead>\n",
       "  <tbody>\n",
       "    <tr>\n",
       "      <th>12622</th>\n",
       "      <td>2016</td>\n",
       "      <td>President</td>\n",
       "      <td>polls-only</td>\n",
       "      <td>Clinton vs. Trump vs. Johnson</td>\n",
       "      <td>11/8/16</td>\n",
       "      <td>Virginia</td>\n",
       "      <td>9/30/2016</td>\n",
       "      <td>10/6/2016</td>\n",
       "      <td>Ipsos</td>\n",
       "      <td>A-</td>\n",
       "      <td>...</td>\n",
       "      <td>49.57558</td>\n",
       "      <td>39.96954</td>\n",
       "      <td>NaN</td>\n",
       "      <td>NaN</td>\n",
       "      <td>NaN</td>\n",
       "      <td>http://www.reuters.com/statesofthenation/</td>\n",
       "      <td>46675</td>\n",
       "      <td>72969</td>\n",
       "      <td>10/10/16</td>\n",
       "      <td>09:14:14  8 Nov 2016</td>\n",
       "    </tr>\n",
       "    <tr>\n",
       "      <th>12623</th>\n",
       "      <td>2016</td>\n",
       "      <td>President</td>\n",
       "      <td>polls-only</td>\n",
       "      <td>Clinton vs. Trump vs. Johnson</td>\n",
       "      <td>11/8/16</td>\n",
       "      <td>Wisconsin</td>\n",
       "      <td>6/9/2016</td>\n",
       "      <td>6/12/2016</td>\n",
       "      <td>Marquette University</td>\n",
       "      <td>A</td>\n",
       "      <td>...</td>\n",
       "      <td>46.40999</td>\n",
       "      <td>39.19839</td>\n",
       "      <td>NaN</td>\n",
       "      <td>NaN</td>\n",
       "      <td>NaN</td>\n",
       "      <td>https://law.marquette.edu/poll/2016/06/15/new-...</td>\n",
       "      <td>44341</td>\n",
       "      <td>66966</td>\n",
       "      <td>6/15/16</td>\n",
       "      <td>09:14:14  8 Nov 2016</td>\n",
       "    </tr>\n",
       "  </tbody>\n",
       "</table>\n",
       "<p>2 rows × 27 columns</p>\n",
       "</div>"
      ],
      "text/plain": [
       "       cycle     branch        type                        matchup  \\\n",
       "12622   2016  President  polls-only  Clinton vs. Trump vs. Johnson   \n",
       "12623   2016  President  polls-only  Clinton vs. Trump vs. Johnson   \n",
       "\n",
       "      forecastdate      state  startdate    enddate              pollster  \\\n",
       "12622      11/8/16   Virginia  9/30/2016  10/6/2016                 Ipsos   \n",
       "12623      11/8/16  Wisconsin   6/9/2016  6/12/2016  Marquette University   \n",
       "\n",
       "      grade  ...  adjpoll_clinton adjpoll_trump  adjpoll_johnson  \\\n",
       "12622    A-  ...         49.57558      39.96954              NaN   \n",
       "12623     A  ...         46.40999      39.19839              NaN   \n",
       "\n",
       "       adjpoll_mcmullin  multiversions  \\\n",
       "12622               NaN            NaN   \n",
       "12623               NaN            NaN   \n",
       "\n",
       "                                                     url  poll_id  \\\n",
       "12622          http://www.reuters.com/statesofthenation/    46675   \n",
       "12623  https://law.marquette.edu/poll/2016/06/15/new-...    44341   \n",
       "\n",
       "       question_id  createddate             timestamp  \n",
       "12622        72969     10/10/16  09:14:14  8 Nov 2016  \n",
       "12623        66966      6/15/16  09:14:14  8 Nov 2016  \n",
       "\n",
       "[2 rows x 27 columns]"
      ]
     },
     "execution_count": 5,
     "metadata": {},
     "output_type": "execute_result"
    }
   ],
   "source": [
    "polls.tail(2)"
   ]
  },
  {
   "cell_type": "code",
   "execution_count": 6,
   "id": "63b5526a",
   "metadata": {},
   "outputs": [],
   "source": [
    "#with pd.option_context('display.max_rows', 2, 'display.max_columns', None): display(polls)"
   ]
  },
  {
   "cell_type": "markdown",
   "id": "cee08142",
   "metadata": {},
   "source": [
    "### Examine the Data"
   ]
  },
  {
   "cell_type": "code",
   "execution_count": 7,
   "id": "dea7dc97",
   "metadata": {},
   "outputs": [
    {
     "name": "stdout",
     "output_type": "stream",
     "text": [
      "<class 'pandas.core.frame.DataFrame'>\n",
      "RangeIndex: 12624 entries, 0 to 12623\n",
      "Data columns (total 27 columns):\n",
      " #   Column            Non-Null Count  Dtype  \n",
      "---  ------            --------------  -----  \n",
      " 0   cycle             12624 non-null  int64  \n",
      " 1   branch            12624 non-null  object \n",
      " 2   type              12624 non-null  object \n",
      " 3   matchup           12624 non-null  object \n",
      " 4   forecastdate      12624 non-null  object \n",
      " 5   state             12624 non-null  object \n",
      " 6   startdate         12624 non-null  object \n",
      " 7   enddate           12624 non-null  object \n",
      " 8   pollster          12624 non-null  object \n",
      " 9   grade             11337 non-null  object \n",
      " 10  samplesize        12621 non-null  float64\n",
      " 11  population        12624 non-null  object \n",
      " 12  poll_wt           12624 non-null  float64\n",
      " 13  rawpoll_clinton   12624 non-null  float64\n",
      " 14  rawpoll_trump     12624 non-null  float64\n",
      " 15  rawpoll_johnson   8397 non-null   float64\n",
      " 16  rawpoll_mcmullin  90 non-null     float64\n",
      " 17  adjpoll_clinton   12624 non-null  float64\n",
      " 18  adjpoll_trump     12624 non-null  float64\n",
      " 19  adjpoll_johnson   8397 non-null   float64\n",
      " 20  adjpoll_mcmullin  90 non-null     float64\n",
      " 21  multiversions     36 non-null     object \n",
      " 22  url               12621 non-null  object \n",
      " 23  poll_id           12624 non-null  int64  \n",
      " 24  question_id       12624 non-null  int64  \n",
      " 25  createddate       12624 non-null  object \n",
      " 26  timestamp         12624 non-null  object \n",
      "dtypes: float64(10), int64(3), object(14)\n",
      "memory usage: 13.0 MB\n"
     ]
    }
   ],
   "source": [
    "polls.info(memory_usage = 'deep')"
   ]
  },
  {
   "cell_type": "code",
   "execution_count": 8,
   "id": "6aee5ae8",
   "metadata": {},
   "outputs": [
    {
     "data": {
      "text/plain": [
       "cycle                   1\n",
       "branch                  1\n",
       "type                    3\n",
       "matchup                 1\n",
       "forecastdate            1\n",
       "state                  57\n",
       "startdate             352\n",
       "enddate               345\n",
       "pollster              196\n",
       "grade                  11\n",
       "samplesize           1767\n",
       "population              4\n",
       "poll_wt              4399\n",
       "rawpoll_clinton      1312\n",
       "rawpoll_trump        1385\n",
       "rawpoll_johnson       585\n",
       "rawpoll_mcmullin       17\n",
       "adjpoll_clinton     12569\n",
       "adjpoll_trump       12582\n",
       "adjpoll_johnson      6630\n",
       "adjpoll_mcmullin       58\n",
       "multiversions           2\n",
       "url                  1305\n",
       "poll_id              4208\n",
       "question_id          4208\n",
       "createddate           222\n",
       "timestamp               3\n",
       "dtype: int64"
      ]
     },
     "execution_count": 8,
     "metadata": {},
     "output_type": "execute_result"
    }
   ],
   "source": [
    "polls.nunique(dropna=False)"
   ]
  },
  {
   "cell_type": "code",
   "execution_count": 9,
   "id": "db660177",
   "metadata": {},
   "outputs": [
    {
     "data": {
      "text/plain": [
       "cycle                                                          [2016]\n",
       "branch                                                    [President]\n",
       "type                               [polls-plus, now-cast, polls-only]\n",
       "matchup                               [Clinton vs. Trump vs. Johnson]\n",
       "forecastdate                                                [11/8/16]\n",
       "state               [U.S., New Mexico, Virginia, Iowa, Wisconsin, ...\n",
       "startdate           [11/3/2016, 11/1/2016, 11/2/2016, 11/4/2016, 1...\n",
       "enddate             [11/6/2016, 11/7/2016, 11/5/2016, 11/4/2016, 1...\n",
       "pollster            [ABC News/Washington Post, Google Consumer Sur...\n",
       "grade                       [A+, B, A-, B-, A, nan, B+, C+, C-, C, D]\n",
       "samplesize          [2220.0, 26574.0, 2195.0, 3677.0, 16639.0, 129...\n",
       "population                                             [lv, rv, a, v]\n",
       "poll_wt             [8.720654, 7.628472, 6.424334, 6.087135, 5.316...\n",
       "rawpoll_clinton     [47.0, 38.03, 42.0, 45.0, 48.0, 44.0, 46.0, 41...\n",
       "rawpoll_trump       [43.0, 35.69, 39.0, 41.0, 44.0, 40.0, 42.7, 46...\n",
       "rawpoll_johnson     [4.0, 5.46, 6.0, 5.0, 3.0, 7.1, 1.0, 2.0, nan,...\n",
       "rawpoll_mcmullin    [nan, 24.0, 27.6, 24.52, 25.0, 21.0, 28.0, 30....\n",
       "adjpoll_clinton     [45.20163, 43.34557, 42.026379999999996, 45.65...\n",
       "adjpoll_trump       [41.7243, 41.21439, 38.8162, 40.92004, 42.3318...\n",
       "adjpoll_johnson     [4.626221, 5.1757919999999995, 6.844734, 6.069...\n",
       "adjpoll_mcmullin    [nan, 24.0, 27.701420000000002, 24.13522, 24.5...\n",
       "multiversions                                                [nan, *]\n",
       "url                 [https://www.washingtonpost.com/news/the-fix/w...\n",
       "poll_id             [48630, 48847, 48922, 48687, 48848, 48619, 485...\n",
       "question_id         [76192, 76443, 76636, 76262, 76444, 76163, 760...\n",
       "createddate         [11/7/16, 11/8/16, 11/6/16, 11/4/16, 11/5/16, ...\n",
       "timestamp           [09:35:33  8 Nov 2016, 09:24:53  8 Nov 2016, 0...\n",
       "dtype: object"
      ]
     },
     "execution_count": 9,
     "metadata": {},
     "output_type": "execute_result"
    }
   ],
   "source": [
    "polls.apply(pd.unique)"
   ]
  },
  {
   "cell_type": "markdown",
   "id": "825372dc",
   "metadata": {},
   "source": [
    "## Part 3"
   ]
  },
  {
   "cell_type": "markdown",
   "id": "8e6b2081",
   "metadata": {},
   "source": [
    "### Clean the Data"
   ]
  },
  {
   "cell_type": "markdown",
   "id": "045a8553",
   "metadata": {},
   "source": [
    "#### Drop columns and rows"
   ]
  },
  {
   "cell_type": "code",
   "execution_count": 10,
   "id": "814e6036",
   "metadata": {},
   "outputs": [],
   "source": [
    "#drop columns with only 1 value\n",
    "polls.drop(columns=['cycle','branch','matchup','forecastdate'],inplace=True)"
   ]
  },
  {
   "cell_type": "code",
   "execution_count": 11,
   "id": "2f154efe",
   "metadata": {},
   "outputs": [
    {
     "data": {
      "text/html": [
       "<div>\n",
       "<style scoped>\n",
       "    .dataframe tbody tr th:only-of-type {\n",
       "        vertical-align: middle;\n",
       "    }\n",
       "\n",
       "    .dataframe tbody tr th {\n",
       "        vertical-align: top;\n",
       "    }\n",
       "\n",
       "    .dataframe thead th {\n",
       "        text-align: right;\n",
       "    }\n",
       "</style>\n",
       "<table border=\"1\" class=\"dataframe\">\n",
       "  <thead>\n",
       "    <tr style=\"text-align: right;\">\n",
       "      <th></th>\n",
       "      <th>type</th>\n",
       "      <th>state</th>\n",
       "      <th>startdate</th>\n",
       "      <th>enddate</th>\n",
       "      <th>pollster</th>\n",
       "      <th>grade</th>\n",
       "      <th>samplesize</th>\n",
       "      <th>population</th>\n",
       "      <th>poll_wt</th>\n",
       "      <th>rawpoll_clinton</th>\n",
       "      <th>...</th>\n",
       "      <th>adjpoll_clinton</th>\n",
       "      <th>adjpoll_trump</th>\n",
       "      <th>adjpoll_johnson</th>\n",
       "      <th>adjpoll_mcmullin</th>\n",
       "      <th>multiversions</th>\n",
       "      <th>url</th>\n",
       "      <th>poll_id</th>\n",
       "      <th>question_id</th>\n",
       "      <th>createddate</th>\n",
       "      <th>timestamp</th>\n",
       "    </tr>\n",
       "  </thead>\n",
       "  <tbody>\n",
       "    <tr>\n",
       "      <th>4208</th>\n",
       "      <td>now-cast</td>\n",
       "      <td>U.S.</td>\n",
       "      <td>11/3/2016</td>\n",
       "      <td>11/6/2016</td>\n",
       "      <td>ABC News/Washington Post</td>\n",
       "      <td>A+</td>\n",
       "      <td>2220.0</td>\n",
       "      <td>lv</td>\n",
       "      <td>8.720654</td>\n",
       "      <td>47.00</td>\n",
       "      <td>...</td>\n",
       "      <td>45.23046</td>\n",
       "      <td>41.68534</td>\n",
       "      <td>4.649687</td>\n",
       "      <td>NaN</td>\n",
       "      <td>NaN</td>\n",
       "      <td>https://www.washingtonpost.com/news/the-fix/wp...</td>\n",
       "      <td>48630</td>\n",
       "      <td>76192</td>\n",
       "      <td>11/7/16</td>\n",
       "      <td>09:24:53  8 Nov 2016</td>\n",
       "    </tr>\n",
       "    <tr>\n",
       "      <th>4209</th>\n",
       "      <td>now-cast</td>\n",
       "      <td>U.S.</td>\n",
       "      <td>11/1/2016</td>\n",
       "      <td>11/7/2016</td>\n",
       "      <td>Google Consumer Surveys</td>\n",
       "      <td>B</td>\n",
       "      <td>26574.0</td>\n",
       "      <td>lv</td>\n",
       "      <td>7.628472</td>\n",
       "      <td>38.03</td>\n",
       "      <td>...</td>\n",
       "      <td>43.36603</td>\n",
       "      <td>41.20737</td>\n",
       "      <td>5.175080</td>\n",
       "      <td>NaN</td>\n",
       "      <td>NaN</td>\n",
       "      <td>https://datastudio.google.com/u/0/#/org//repor...</td>\n",
       "      <td>48847</td>\n",
       "      <td>76443</td>\n",
       "      <td>11/7/16</td>\n",
       "      <td>09:24:53  8 Nov 2016</td>\n",
       "    </tr>\n",
       "  </tbody>\n",
       "</table>\n",
       "<p>2 rows × 23 columns</p>\n",
       "</div>"
      ],
      "text/plain": [
       "          type state  startdate    enddate                  pollster grade  \\\n",
       "4208  now-cast  U.S.  11/3/2016  11/6/2016  ABC News/Washington Post    A+   \n",
       "4209  now-cast  U.S.  11/1/2016  11/7/2016   Google Consumer Surveys     B   \n",
       "\n",
       "      samplesize population   poll_wt  rawpoll_clinton  ...  adjpoll_clinton  \\\n",
       "4208      2220.0         lv  8.720654            47.00  ...         45.23046   \n",
       "4209     26574.0         lv  7.628472            38.03  ...         43.36603   \n",
       "\n",
       "      adjpoll_trump  adjpoll_johnson  adjpoll_mcmullin  multiversions  \\\n",
       "4208       41.68534         4.649687               NaN            NaN   \n",
       "4209       41.20737         5.175080               NaN            NaN   \n",
       "\n",
       "                                                    url  poll_id question_id  \\\n",
       "4208  https://www.washingtonpost.com/news/the-fix/wp...    48630       76192   \n",
       "4209  https://datastudio.google.com/u/0/#/org//repor...    48847       76443   \n",
       "\n",
       "     createddate             timestamp  \n",
       "4208     11/7/16  09:24:53  8 Nov 2016  \n",
       "4209     11/7/16  09:24:53  8 Nov 2016  \n",
       "\n",
       "[2 rows x 23 columns]"
      ]
     },
     "execution_count": 11,
     "metadata": {},
     "output_type": "execute_result"
    }
   ],
   "source": [
    "#keep only rows with \"now-cast\" in the type column and drop that column\n",
    "polls = polls.query('type == \"now-cast\"')\n",
    "polls.head(2)"
   ]
  },
  {
   "cell_type": "code",
   "execution_count": 12,
   "id": "c756fb43",
   "metadata": {},
   "outputs": [],
   "source": [
    "polls.drop(columns='type', inplace=True)"
   ]
  },
  {
   "cell_type": "code",
   "execution_count": 13,
   "id": "74bb1e88",
   "metadata": {},
   "outputs": [],
   "source": [
    "#keep only rows with the 'lv' and 'rv'in the population column\n",
    "polls.query('population != \"lv\" & population != \"rv\"') #just 63 rows\n",
    "polls = polls.query('population in [\"lv\",\"rv\"]')"
   ]
  },
  {
   "cell_type": "code",
   "execution_count": 14,
   "id": "8eba744a",
   "metadata": {},
   "outputs": [],
   "source": [
    "#find unnecessary index columns and then drop them\n",
    "polls.loc[:, polls.nunique() == polls.shape[0]] #display columns \n",
    "polls.drop(columns=['poll_id', 'question_id'], inplace=True)"
   ]
  },
  {
   "cell_type": "code",
   "execution_count": 15,
   "id": "7150fc2d",
   "metadata": {},
   "outputs": [],
   "source": [
    "#find columns that start with 'adjpoll' and then drop them\n",
    "polls.loc[:, polls.columns.str.startswith('adjpoll')]\n",
    "polls = polls.loc[:, ~polls.columns.str.startswith('adjpoll')]"
   ]
  },
  {
   "cell_type": "code",
   "execution_count": 16,
   "id": "27da0524",
   "metadata": {},
   "outputs": [],
   "source": [
    "#drop the columns for Johnson and McMullin\n",
    "polls.drop(columns=['rawpoll_johnson', 'rawpoll_mcmullin'], inplace=True)"
   ]
  },
  {
   "cell_type": "code",
   "execution_count": 17,
   "id": "011e49ac",
   "metadata": {},
   "outputs": [
    {
     "data": {
      "text/html": [
       "<div>\n",
       "<style scoped>\n",
       "    .dataframe tbody tr th:only-of-type {\n",
       "        vertical-align: middle;\n",
       "    }\n",
       "\n",
       "    .dataframe tbody tr th {\n",
       "        vertical-align: top;\n",
       "    }\n",
       "\n",
       "    .dataframe thead th {\n",
       "        text-align: right;\n",
       "    }\n",
       "</style>\n",
       "<table border=\"1\" class=\"dataframe\">\n",
       "  <thead>\n",
       "    <tr style=\"text-align: right;\">\n",
       "      <th></th>\n",
       "      <th>state</th>\n",
       "      <th>startdate</th>\n",
       "      <th>enddate</th>\n",
       "      <th>pollster</th>\n",
       "      <th>grade</th>\n",
       "      <th>samplesize</th>\n",
       "      <th>population</th>\n",
       "      <th>poll_wt</th>\n",
       "      <th>rawpoll_clinton</th>\n",
       "      <th>rawpoll_trump</th>\n",
       "      <th>url</th>\n",
       "      <th>createddate</th>\n",
       "      <th>timestamp</th>\n",
       "    </tr>\n",
       "  </thead>\n",
       "  <tbody>\n",
       "    <tr>\n",
       "      <th>4208</th>\n",
       "      <td>U.S.</td>\n",
       "      <td>11/3/2016</td>\n",
       "      <td>11/6/2016</td>\n",
       "      <td>ABC News/Washington Post</td>\n",
       "      <td>A+</td>\n",
       "      <td>2220.0</td>\n",
       "      <td>lv</td>\n",
       "      <td>8.720654</td>\n",
       "      <td>47.00</td>\n",
       "      <td>43.00</td>\n",
       "      <td>https://www.washingtonpost.com/news/the-fix/wp...</td>\n",
       "      <td>11/7/16</td>\n",
       "      <td>09:24:53  8 Nov 2016</td>\n",
       "    </tr>\n",
       "    <tr>\n",
       "      <th>4209</th>\n",
       "      <td>U.S.</td>\n",
       "      <td>11/1/2016</td>\n",
       "      <td>11/7/2016</td>\n",
       "      <td>Google Consumer Surveys</td>\n",
       "      <td>B</td>\n",
       "      <td>26574.0</td>\n",
       "      <td>lv</td>\n",
       "      <td>7.628472</td>\n",
       "      <td>38.03</td>\n",
       "      <td>35.69</td>\n",
       "      <td>https://datastudio.google.com/u/0/#/org//repor...</td>\n",
       "      <td>11/7/16</td>\n",
       "      <td>09:24:53  8 Nov 2016</td>\n",
       "    </tr>\n",
       "    <tr>\n",
       "      <th>4210</th>\n",
       "      <td>U.S.</td>\n",
       "      <td>11/2/2016</td>\n",
       "      <td>11/6/2016</td>\n",
       "      <td>Ipsos</td>\n",
       "      <td>A-</td>\n",
       "      <td>2195.0</td>\n",
       "      <td>lv</td>\n",
       "      <td>6.424334</td>\n",
       "      <td>42.00</td>\n",
       "      <td>39.00</td>\n",
       "      <td>http://projects.fivethirtyeight.com/polls/2016...</td>\n",
       "      <td>11/8/16</td>\n",
       "      <td>09:24:53  8 Nov 2016</td>\n",
       "    </tr>\n",
       "    <tr>\n",
       "      <th>4211</th>\n",
       "      <td>U.S.</td>\n",
       "      <td>11/4/2016</td>\n",
       "      <td>11/7/2016</td>\n",
       "      <td>YouGov</td>\n",
       "      <td>B</td>\n",
       "      <td>3677.0</td>\n",
       "      <td>lv</td>\n",
       "      <td>6.087135</td>\n",
       "      <td>45.00</td>\n",
       "      <td>41.00</td>\n",
       "      <td>https://d25d2506sfb94s.cloudfront.net/cumulus_...</td>\n",
       "      <td>11/7/16</td>\n",
       "      <td>09:24:53  8 Nov 2016</td>\n",
       "    </tr>\n",
       "    <tr>\n",
       "      <th>4212</th>\n",
       "      <td>U.S.</td>\n",
       "      <td>11/3/2016</td>\n",
       "      <td>11/6/2016</td>\n",
       "      <td>Gravis Marketing</td>\n",
       "      <td>B-</td>\n",
       "      <td>16639.0</td>\n",
       "      <td>rv</td>\n",
       "      <td>5.316449</td>\n",
       "      <td>47.00</td>\n",
       "      <td>43.00</td>\n",
       "      <td>http://www.gravispolls.com/2016/11/final-natio...</td>\n",
       "      <td>11/7/16</td>\n",
       "      <td>09:24:53  8 Nov 2016</td>\n",
       "    </tr>\n",
       "    <tr>\n",
       "      <th>...</th>\n",
       "      <td>...</td>\n",
       "      <td>...</td>\n",
       "      <td>...</td>\n",
       "      <td>...</td>\n",
       "      <td>...</td>\n",
       "      <td>...</td>\n",
       "      <td>...</td>\n",
       "      <td>...</td>\n",
       "      <td>...</td>\n",
       "      <td>...</td>\n",
       "      <td>...</td>\n",
       "      <td>...</td>\n",
       "      <td>...</td>\n",
       "    </tr>\n",
       "    <tr>\n",
       "      <th>8411</th>\n",
       "      <td>North Carolina</td>\n",
       "      <td>8/26/2016</td>\n",
       "      <td>8/27/2016</td>\n",
       "      <td>Public Policy Polling</td>\n",
       "      <td>B+</td>\n",
       "      <td>1177.0</td>\n",
       "      <td>lv</td>\n",
       "      <td>0.000000</td>\n",
       "      <td>45.00</td>\n",
       "      <td>44.00</td>\n",
       "      <td>http://nelpaction.org/wp-content/uploads/2016/...</td>\n",
       "      <td>9/1/16</td>\n",
       "      <td>09:24:53  8 Nov 2016</td>\n",
       "    </tr>\n",
       "    <tr>\n",
       "      <th>8412</th>\n",
       "      <td>North Carolina</td>\n",
       "      <td>3/9/2016</td>\n",
       "      <td>3/10/2016</td>\n",
       "      <td>SurveyUSA</td>\n",
       "      <td>A</td>\n",
       "      <td>1576.0</td>\n",
       "      <td>lv</td>\n",
       "      <td>0.000000</td>\n",
       "      <td>42.00</td>\n",
       "      <td>49.00</td>\n",
       "      <td>http://www.highpoint.edu/blog/2016/03/hpu-poll...</td>\n",
       "      <td>5/5/16</td>\n",
       "      <td>09:24:53  8 Nov 2016</td>\n",
       "    </tr>\n",
       "    <tr>\n",
       "      <th>8413</th>\n",
       "      <td>North Carolina</td>\n",
       "      <td>7/31/2016</td>\n",
       "      <td>8/2/2016</td>\n",
       "      <td>SurveyUSA</td>\n",
       "      <td>A</td>\n",
       "      <td>400.0</td>\n",
       "      <td>lv</td>\n",
       "      <td>0.000000</td>\n",
       "      <td>42.00</td>\n",
       "      <td>46.00</td>\n",
       "      <td>https://www.nccivitas.org/2016/civitas-release...</td>\n",
       "      <td>8/3/16</td>\n",
       "      <td>09:24:53  8 Nov 2016</td>\n",
       "    </tr>\n",
       "    <tr>\n",
       "      <th>8414</th>\n",
       "      <td>Utah</td>\n",
       "      <td>8/5/2016</td>\n",
       "      <td>8/25/2016</td>\n",
       "      <td>Ipsos</td>\n",
       "      <td>A-</td>\n",
       "      <td>177.0</td>\n",
       "      <td>lv</td>\n",
       "      <td>0.000000</td>\n",
       "      <td>33.67</td>\n",
       "      <td>38.53</td>\n",
       "      <td>http://www.reuters.com/statesofthenation</td>\n",
       "      <td>8/26/16</td>\n",
       "      <td>09:24:53  8 Nov 2016</td>\n",
       "    </tr>\n",
       "    <tr>\n",
       "      <th>8415</th>\n",
       "      <td>Missouri</td>\n",
       "      <td>10/21/2016</td>\n",
       "      <td>11/2/2016</td>\n",
       "      <td>Ipsos</td>\n",
       "      <td>A-</td>\n",
       "      <td>405.0</td>\n",
       "      <td>lv</td>\n",
       "      <td>0.000000</td>\n",
       "      <td>41.09</td>\n",
       "      <td>47.19</td>\n",
       "      <td>http://www.reuters.com/statesofthenation/</td>\n",
       "      <td>11/3/16</td>\n",
       "      <td>09:24:53  8 Nov 2016</td>\n",
       "    </tr>\n",
       "  </tbody>\n",
       "</table>\n",
       "<p>4145 rows × 13 columns</p>\n",
       "</div>"
      ],
      "text/plain": [
       "               state   startdate    enddate                  pollster grade  \\\n",
       "4208            U.S.   11/3/2016  11/6/2016  ABC News/Washington Post    A+   \n",
       "4209            U.S.   11/1/2016  11/7/2016   Google Consumer Surveys     B   \n",
       "4210            U.S.   11/2/2016  11/6/2016                     Ipsos    A-   \n",
       "4211            U.S.   11/4/2016  11/7/2016                    YouGov     B   \n",
       "4212            U.S.   11/3/2016  11/6/2016          Gravis Marketing    B-   \n",
       "...              ...         ...        ...                       ...   ...   \n",
       "8411  North Carolina   8/26/2016  8/27/2016     Public Policy Polling    B+   \n",
       "8412  North Carolina    3/9/2016  3/10/2016                 SurveyUSA     A   \n",
       "8413  North Carolina   7/31/2016   8/2/2016                 SurveyUSA     A   \n",
       "8414            Utah    8/5/2016  8/25/2016                     Ipsos    A-   \n",
       "8415        Missouri  10/21/2016  11/2/2016                     Ipsos    A-   \n",
       "\n",
       "      samplesize population   poll_wt  rawpoll_clinton  rawpoll_trump  \\\n",
       "4208      2220.0         lv  8.720654            47.00          43.00   \n",
       "4209     26574.0         lv  7.628472            38.03          35.69   \n",
       "4210      2195.0         lv  6.424334            42.00          39.00   \n",
       "4211      3677.0         lv  6.087135            45.00          41.00   \n",
       "4212     16639.0         rv  5.316449            47.00          43.00   \n",
       "...          ...        ...       ...              ...            ...   \n",
       "8411      1177.0         lv  0.000000            45.00          44.00   \n",
       "8412      1576.0         lv  0.000000            42.00          49.00   \n",
       "8413       400.0         lv  0.000000            42.00          46.00   \n",
       "8414       177.0         lv  0.000000            33.67          38.53   \n",
       "8415       405.0         lv  0.000000            41.09          47.19   \n",
       "\n",
       "                                                    url createddate  \\\n",
       "4208  https://www.washingtonpost.com/news/the-fix/wp...     11/7/16   \n",
       "4209  https://datastudio.google.com/u/0/#/org//repor...     11/7/16   \n",
       "4210  http://projects.fivethirtyeight.com/polls/2016...     11/8/16   \n",
       "4211  https://d25d2506sfb94s.cloudfront.net/cumulus_...     11/7/16   \n",
       "4212  http://www.gravispolls.com/2016/11/final-natio...     11/7/16   \n",
       "...                                                 ...         ...   \n",
       "8411  http://nelpaction.org/wp-content/uploads/2016/...      9/1/16   \n",
       "8412  http://www.highpoint.edu/blog/2016/03/hpu-poll...      5/5/16   \n",
       "8413  https://www.nccivitas.org/2016/civitas-release...      8/3/16   \n",
       "8414           http://www.reuters.com/statesofthenation     8/26/16   \n",
       "8415          http://www.reuters.com/statesofthenation/     11/3/16   \n",
       "\n",
       "                 timestamp  \n",
       "4208  09:24:53  8 Nov 2016  \n",
       "4209  09:24:53  8 Nov 2016  \n",
       "4210  09:24:53  8 Nov 2016  \n",
       "4211  09:24:53  8 Nov 2016  \n",
       "4212  09:24:53  8 Nov 2016  \n",
       "...                    ...  \n",
       "8411  09:24:53  8 Nov 2016  \n",
       "8412  09:24:53  8 Nov 2016  \n",
       "8413  09:24:53  8 Nov 2016  \n",
       "8414  09:24:53  8 Nov 2016  \n",
       "8415  09:24:53  8 Nov 2016  \n",
       "\n",
       "[4145 rows x 13 columns]"
      ]
     },
     "execution_count": 17,
     "metadata": {},
     "output_type": "execute_result"
    }
   ],
   "source": [
    "#check the non-null rows in the multiversions column and drop that column\n",
    "polls.loc[polls.multiversions.notnull()]\n",
    "polls.drop(columns='multiversions')"
   ]
  },
  {
   "cell_type": "code",
   "execution_count": 18,
   "id": "dc50d3ff",
   "metadata": {},
   "outputs": [
    {
     "data": {
      "text/html": [
       "<div>\n",
       "<style scoped>\n",
       "    .dataframe tbody tr th:only-of-type {\n",
       "        vertical-align: middle;\n",
       "    }\n",
       "\n",
       "    .dataframe tbody tr th {\n",
       "        vertical-align: top;\n",
       "    }\n",
       "\n",
       "    .dataframe thead th {\n",
       "        text-align: right;\n",
       "    }\n",
       "</style>\n",
       "<table border=\"1\" class=\"dataframe\">\n",
       "  <thead>\n",
       "    <tr style=\"text-align: right;\">\n",
       "      <th></th>\n",
       "      <th>state</th>\n",
       "      <th>startdate</th>\n",
       "      <th>enddate</th>\n",
       "      <th>pollster</th>\n",
       "      <th>grade</th>\n",
       "      <th>samplesize</th>\n",
       "      <th>population</th>\n",
       "      <th>poll_wt</th>\n",
       "      <th>rawpoll_clinton</th>\n",
       "      <th>rawpoll_trump</th>\n",
       "      <th>multiversions</th>\n",
       "    </tr>\n",
       "  </thead>\n",
       "  <tbody>\n",
       "    <tr>\n",
       "      <th>4208</th>\n",
       "      <td>U.S.</td>\n",
       "      <td>11/3/2016</td>\n",
       "      <td>11/6/2016</td>\n",
       "      <td>ABC News/Washington Post</td>\n",
       "      <td>A+</td>\n",
       "      <td>2220.0</td>\n",
       "      <td>lv</td>\n",
       "      <td>8.720654</td>\n",
       "      <td>47.00</td>\n",
       "      <td>43.00</td>\n",
       "      <td>NaN</td>\n",
       "    </tr>\n",
       "    <tr>\n",
       "      <th>4209</th>\n",
       "      <td>U.S.</td>\n",
       "      <td>11/1/2016</td>\n",
       "      <td>11/7/2016</td>\n",
       "      <td>Google Consumer Surveys</td>\n",
       "      <td>B</td>\n",
       "      <td>26574.0</td>\n",
       "      <td>lv</td>\n",
       "      <td>7.628472</td>\n",
       "      <td>38.03</td>\n",
       "      <td>35.69</td>\n",
       "      <td>NaN</td>\n",
       "    </tr>\n",
       "    <tr>\n",
       "      <th>4210</th>\n",
       "      <td>U.S.</td>\n",
       "      <td>11/2/2016</td>\n",
       "      <td>11/6/2016</td>\n",
       "      <td>Ipsos</td>\n",
       "      <td>A-</td>\n",
       "      <td>2195.0</td>\n",
       "      <td>lv</td>\n",
       "      <td>6.424334</td>\n",
       "      <td>42.00</td>\n",
       "      <td>39.00</td>\n",
       "      <td>NaN</td>\n",
       "    </tr>\n",
       "    <tr>\n",
       "      <th>4211</th>\n",
       "      <td>U.S.</td>\n",
       "      <td>11/4/2016</td>\n",
       "      <td>11/7/2016</td>\n",
       "      <td>YouGov</td>\n",
       "      <td>B</td>\n",
       "      <td>3677.0</td>\n",
       "      <td>lv</td>\n",
       "      <td>6.087135</td>\n",
       "      <td>45.00</td>\n",
       "      <td>41.00</td>\n",
       "      <td>NaN</td>\n",
       "    </tr>\n",
       "    <tr>\n",
       "      <th>4212</th>\n",
       "      <td>U.S.</td>\n",
       "      <td>11/3/2016</td>\n",
       "      <td>11/6/2016</td>\n",
       "      <td>Gravis Marketing</td>\n",
       "      <td>B-</td>\n",
       "      <td>16639.0</td>\n",
       "      <td>rv</td>\n",
       "      <td>5.316449</td>\n",
       "      <td>47.00</td>\n",
       "      <td>43.00</td>\n",
       "      <td>NaN</td>\n",
       "    </tr>\n",
       "  </tbody>\n",
       "</table>\n",
       "</div>"
      ],
      "text/plain": [
       "     state  startdate    enddate                  pollster grade  samplesize  \\\n",
       "4208  U.S.  11/3/2016  11/6/2016  ABC News/Washington Post    A+      2220.0   \n",
       "4209  U.S.  11/1/2016  11/7/2016   Google Consumer Surveys     B     26574.0   \n",
       "4210  U.S.  11/2/2016  11/6/2016                     Ipsos    A-      2195.0   \n",
       "4211  U.S.  11/4/2016  11/7/2016                    YouGov     B      3677.0   \n",
       "4212  U.S.  11/3/2016  11/6/2016          Gravis Marketing    B-     16639.0   \n",
       "\n",
       "     population   poll_wt  rawpoll_clinton  rawpoll_trump multiversions  \n",
       "4208         lv  8.720654            47.00          43.00           NaN  \n",
       "4209         lv  7.628472            38.03          35.69           NaN  \n",
       "4210         lv  6.424334            42.00          39.00           NaN  \n",
       "4211         lv  6.087135            45.00          41.00           NaN  \n",
       "4212         rv  5.316449            47.00          43.00           NaN  "
      ]
     },
     "execution_count": 18,
     "metadata": {},
     "output_type": "execute_result"
    }
   ],
   "source": [
    "##drop 3 more columns\n",
    "polls.drop(columns=['createddate', 'timestamp', 'url'], inplace=True)\n",
    "polls.head()"
   ]
  },
  {
   "cell_type": "code",
   "execution_count": 19,
   "id": "576a0bd4",
   "metadata": {},
   "outputs": [],
   "source": [
    "#rename voting columns\n",
    "polls.rename(columns={'rawpoll_clinton':'clinton_pct', 'rawpoll_trump':'trump_pct'}, inplace=True)"
   ]
  },
  {
   "cell_type": "code",
   "execution_count": 20,
   "id": "f68cdd31",
   "metadata": {},
   "outputs": [
    {
     "data": {
      "text/html": [
       "<div>\n",
       "<style scoped>\n",
       "    .dataframe tbody tr th:only-of-type {\n",
       "        vertical-align: middle;\n",
       "    }\n",
       "\n",
       "    .dataframe tbody tr th {\n",
       "        vertical-align: top;\n",
       "    }\n",
       "\n",
       "    .dataframe thead th {\n",
       "        text-align: right;\n",
       "    }\n",
       "</style>\n",
       "<table border=\"1\" class=\"dataframe\">\n",
       "  <thead>\n",
       "    <tr style=\"text-align: right;\">\n",
       "      <th></th>\n",
       "      <th>state</th>\n",
       "      <th>startdate</th>\n",
       "      <th>enddate</th>\n",
       "      <th>pollster</th>\n",
       "      <th>grade</th>\n",
       "      <th>population</th>\n",
       "      <th>multiversions</th>\n",
       "    </tr>\n",
       "  </thead>\n",
       "  <tbody>\n",
       "    <tr>\n",
       "      <th>4208</th>\n",
       "      <td>U.S.</td>\n",
       "      <td>11/3/2016</td>\n",
       "      <td>11/6/2016</td>\n",
       "      <td>ABC News/Washington Post</td>\n",
       "      <td>A+</td>\n",
       "      <td>lv</td>\n",
       "      <td>NaN</td>\n",
       "    </tr>\n",
       "    <tr>\n",
       "      <th>4209</th>\n",
       "      <td>U.S.</td>\n",
       "      <td>11/1/2016</td>\n",
       "      <td>11/7/2016</td>\n",
       "      <td>Google Consumer Surveys</td>\n",
       "      <td>B</td>\n",
       "      <td>lv</td>\n",
       "      <td>NaN</td>\n",
       "    </tr>\n",
       "  </tbody>\n",
       "</table>\n",
       "</div>"
      ],
      "text/plain": [
       "     state  startdate    enddate                  pollster grade population  \\\n",
       "4208  U.S.  11/3/2016  11/6/2016  ABC News/Washington Post    A+         lv   \n",
       "4209  U.S.  11/1/2016  11/7/2016   Google Consumer Surveys     B         lv   \n",
       "\n",
       "     multiversions  \n",
       "4208           NaN  \n",
       "4209           NaN  "
      ]
     },
     "execution_count": 20,
     "metadata": {},
     "output_type": "execute_result"
    }
   ],
   "source": [
    "#fix object types that should be numeric or datetime objects\n",
    "##list the object types\n",
    "polls.select_dtypes('object').head(2)"
   ]
  },
  {
   "cell_type": "code",
   "execution_count": 21,
   "id": "0dea1152",
   "metadata": {},
   "outputs": [],
   "source": [
    "##convert the object types that are dates to datetime objects\n",
    "date_cols = ['startdate','enddate']\n",
    "polls[date_cols] = polls[date_cols].apply(pd.to_datetime)"
   ]
  },
  {
   "cell_type": "code",
   "execution_count": 22,
   "id": "0017edd1",
   "metadata": {},
   "outputs": [
    {
     "data": {
      "text/plain": [
       "array(['U.S.', 'New Mexico', 'Virginia', 'Iowa', 'Wisconsin',\n",
       "       'North Carolina', 'Georgia', 'Florida', 'Oregon', 'Ohio',\n",
       "       'South Carolina', 'New York', 'Michigan', 'Pennsylvania',\n",
       "       'Missouri', 'New Hampshire', 'Arizona', 'Nevada', 'Colorado',\n",
       "       'California', 'Washington', 'Texas', 'Utah', 'Illinois', 'Indiana',\n",
       "       'Tennessee', 'Connecticut', 'Massachusetts', 'New Jersey',\n",
       "       'Kansas', 'Kentucky', 'Minnesota', 'Oklahoma', 'Maryland',\n",
       "       'Alabama', 'Nebraska', 'Louisiana', 'Maine', 'Arkansas', 'Alaska',\n",
       "       'Vermont', 'Idaho', 'Mississippi', 'West Virginia', 'South Dakota',\n",
       "       'Montana', 'Hawaii', 'Maine CD-1', 'Maine CD-2', 'Rhode Island',\n",
       "       'Nebraska CD-1', 'Nebraska CD-3', 'Delaware', 'North Dakota',\n",
       "       'District of Columbia', 'Nebraska CD-2', 'Wyoming'], dtype=object)"
      ]
     },
     "execution_count": 22,
     "metadata": {},
     "output_type": "execute_result"
    }
   ],
   "source": [
    "#fix the data for the state column\n",
    "##list the unique values in the state column\n",
    "polls.state.unique() #this lists values like \"maine CD-1\" and \"Maine CD-2\""
   ]
  },
  {
   "cell_type": "code",
   "execution_count": 23,
   "id": "5a02a54a",
   "metadata": {},
   "outputs": [
    {
     "data": {
      "text/plain": [
       "4486       Maine CD-1\n",
       "4487       Maine CD-2\n",
       "4491    Nebraska CD-1\n",
       "4492    Nebraska CD-3\n",
       "4496       Maine CD-2\n",
       "4534       Maine CD-2\n",
       "4543       Maine CD-1\n",
       "4545       Maine CD-1\n",
       "4552    Nebraska CD-2\n",
       "4571       Maine CD-2\n",
       "4640    Nebraska CD-2\n",
       "4790       Maine CD-2\n",
       "4872       Maine CD-1\n",
       "4878       Maine CD-2\n",
       "4963       Maine CD-2\n",
       "4970       Maine CD-1\n",
       "5095       Maine CD-2\n",
       "5115       Maine CD-2\n",
       "5123       Maine CD-1\n",
       "5124       Maine CD-1\n",
       "5125       Maine CD-2\n",
       "5172       Maine CD-2\n",
       "5173       Maine CD-1\n",
       "5497       Maine CD-2\n",
       "5519       Maine CD-1\n",
       "6146       Maine CD-2\n",
       "6172       Maine CD-1\n",
       "6467       Maine CD-1\n",
       "6517       Maine CD-2\n",
       "Name: state, dtype: object"
      ]
     },
     "execution_count": 23,
     "metadata": {},
     "output_type": "execute_result"
    }
   ],
   "source": [
    "##list all state values that contain \"CD-\"\n",
    "polls[polls.state.str.contains('CD-')]['state']"
   ]
  },
  {
   "cell_type": "code",
   "execution_count": 24,
   "id": "166f77aa",
   "metadata": {},
   "outputs": [],
   "source": [
    "##drop those rows after you find out that CD stands for Congressional District\n",
    "polls = polls.loc[~polls.state.str.contains('CD-')]"
   ]
  },
  {
   "cell_type": "code",
   "execution_count": 25,
   "id": "b385c94e",
   "metadata": {},
   "outputs": [
    {
     "data": {
      "text/plain": [
       "<AxesSubplot:xlabel='enddate'>"
      ]
     },
     "execution_count": 25,
     "metadata": {},
     "output_type": "execute_result"
    },
    {
     "data": {
      "image/png": "[encoded data removed]",
      "text/plain": [
       "<Figure size 432x288 with 1 Axes>"
      ]
     },
     "metadata": {
      "needs_background": "light"
     },
     "output_type": "display_data"
    }
   ],
   "source": [
    "#take an early plot with Pandas\n",
    "polls.plot.line(x='enddate', y=['clinton_pct','trump_pct'])"
   ]
  },
  {
   "cell_type": "markdown",
   "id": "7e4b7840",
   "metadata": {},
   "source": [
    "### Save the DataFrame as a pickle file"
   ]
  },
  {
   "cell_type": "code",
   "execution_count": 26,
   "id": "e11fcdcb",
   "metadata": {},
   "outputs": [],
   "source": [
    "polls.to_pickle('polls_clean.pkl')"
   ]
  },
  {
   "cell_type": "markdown",
   "id": "c11173a8",
   "metadata": {},
   "source": [
    "## Part 4"
   ]
  },
  {
   "cell_type": "markdown",
   "id": "1739479f",
   "metadata": {},
   "source": [
    "### Prepare the Data"
   ]
  },
  {
   "cell_type": "markdown",
   "id": "16f3adc3",
   "metadata": {},
   "source": [
    "#### Add Columns for Grouping and Filtering"
   ]
  },
  {
   "cell_type": "code",
   "execution_count": 27,
   "id": "0b621b9d",
   "metadata": {},
   "outputs": [],
   "source": [
    "#add a voter_type column and drop the population column\n",
    "polls['voter_type'] = polls.population.replace({'lv':'likely','rv':'registered'})"
   ]
  },
  {
   "cell_type": "code",
   "execution_count": 28,
   "id": "875bcd8d",
   "metadata": {},
   "outputs": [],
   "source": [
    "polls.drop(columns='population', inplace=True)"
   ]
  },
  {
   "cell_type": "code",
   "execution_count": 29,
   "id": "7cf7bb13",
   "metadata": {},
   "outputs": [],
   "source": [
    "#add a gap column for the gap between the Clinton and Trump percents\n",
    "polls['gap'] = polls.clinton_pct - polls.trump_pct"
   ]
  },
  {
   "cell_type": "code",
   "execution_count": 30,
   "id": "cff4ffe8",
   "metadata": {},
   "outputs": [],
   "source": [
    "#add a state_gap summary column that contains the gap for each state\n",
    "polls['state_gap'] = polls.groupby('state').gap.transform(func='mean')"
   ]
  },
  {
   "cell_type": "code",
   "execution_count": 31,
   "id": "0b149d99",
   "metadata": {},
   "outputs": [],
   "source": [
    "#add a swing column that identifies states with a less than a 7 percent gap\n",
    "polls['swing'] = (polls.state != \"U.S.\") & (abs(polls.state_gap) < 7)"
   ]
  },
  {
   "cell_type": "code",
   "execution_count": 32,
   "id": "03a49687",
   "metadata": {},
   "outputs": [
    {
     "data": {
      "text/html": [
       "<div>\n",
       "<style scoped>\n",
       "    .dataframe tbody tr th:only-of-type {\n",
       "        vertical-align: middle;\n",
       "    }\n",
       "\n",
       "    .dataframe tbody tr th {\n",
       "        vertical-align: top;\n",
       "    }\n",
       "\n",
       "    .dataframe thead th {\n",
       "        text-align: right;\n",
       "    }\n",
       "</style>\n",
       "<table border=\"1\" class=\"dataframe\">\n",
       "  <thead>\n",
       "    <tr style=\"text-align: right;\">\n",
       "      <th></th>\n",
       "      <th>state</th>\n",
       "      <th>startdate</th>\n",
       "      <th>enddate</th>\n",
       "      <th>pollster</th>\n",
       "      <th>grade</th>\n",
       "      <th>samplesize</th>\n",
       "      <th>poll_wt</th>\n",
       "      <th>clinton_pct</th>\n",
       "      <th>trump_pct</th>\n",
       "      <th>multiversions</th>\n",
       "      <th>voter_type</th>\n",
       "      <th>gap</th>\n",
       "      <th>state_gap</th>\n",
       "      <th>swing</th>\n",
       "    </tr>\n",
       "  </thead>\n",
       "  <tbody>\n",
       "    <tr>\n",
       "      <th>4208</th>\n",
       "      <td>U.S.</td>\n",
       "      <td>2016-11-03</td>\n",
       "      <td>2016-11-06</td>\n",
       "      <td>ABC News/Washington Post</td>\n",
       "      <td>A+</td>\n",
       "      <td>2220.0</td>\n",
       "      <td>8.720654</td>\n",
       "      <td>47.00</td>\n",
       "      <td>43.00</td>\n",
       "      <td>NaN</td>\n",
       "      <td>likely</td>\n",
       "      <td>4.00</td>\n",
       "      <td>4.347514</td>\n",
       "      <td>False</td>\n",
       "    </tr>\n",
       "    <tr>\n",
       "      <th>4209</th>\n",
       "      <td>U.S.</td>\n",
       "      <td>2016-11-01</td>\n",
       "      <td>2016-11-07</td>\n",
       "      <td>Google Consumer Surveys</td>\n",
       "      <td>B</td>\n",
       "      <td>26574.0</td>\n",
       "      <td>7.628472</td>\n",
       "      <td>38.03</td>\n",
       "      <td>35.69</td>\n",
       "      <td>NaN</td>\n",
       "      <td>likely</td>\n",
       "      <td>2.34</td>\n",
       "      <td>4.347514</td>\n",
       "      <td>False</td>\n",
       "    </tr>\n",
       "    <tr>\n",
       "      <th>4210</th>\n",
       "      <td>U.S.</td>\n",
       "      <td>2016-11-02</td>\n",
       "      <td>2016-11-06</td>\n",
       "      <td>Ipsos</td>\n",
       "      <td>A-</td>\n",
       "      <td>2195.0</td>\n",
       "      <td>6.424334</td>\n",
       "      <td>42.00</td>\n",
       "      <td>39.00</td>\n",
       "      <td>NaN</td>\n",
       "      <td>likely</td>\n",
       "      <td>3.00</td>\n",
       "      <td>4.347514</td>\n",
       "      <td>False</td>\n",
       "    </tr>\n",
       "    <tr>\n",
       "      <th>4211</th>\n",
       "      <td>U.S.</td>\n",
       "      <td>2016-11-04</td>\n",
       "      <td>2016-11-07</td>\n",
       "      <td>YouGov</td>\n",
       "      <td>B</td>\n",
       "      <td>3677.0</td>\n",
       "      <td>6.087135</td>\n",
       "      <td>45.00</td>\n",
       "      <td>41.00</td>\n",
       "      <td>NaN</td>\n",
       "      <td>likely</td>\n",
       "      <td>4.00</td>\n",
       "      <td>4.347514</td>\n",
       "      <td>False</td>\n",
       "    </tr>\n",
       "    <tr>\n",
       "      <th>4212</th>\n",
       "      <td>U.S.</td>\n",
       "      <td>2016-11-03</td>\n",
       "      <td>2016-11-06</td>\n",
       "      <td>Gravis Marketing</td>\n",
       "      <td>B-</td>\n",
       "      <td>16639.0</td>\n",
       "      <td>5.316449</td>\n",
       "      <td>47.00</td>\n",
       "      <td>43.00</td>\n",
       "      <td>NaN</td>\n",
       "      <td>registered</td>\n",
       "      <td>4.00</td>\n",
       "      <td>4.347514</td>\n",
       "      <td>False</td>\n",
       "    </tr>\n",
       "  </tbody>\n",
       "</table>\n",
       "</div>"
      ],
      "text/plain": [
       "     state  startdate    enddate                  pollster grade  samplesize  \\\n",
       "4208  U.S. 2016-11-03 2016-11-06  ABC News/Washington Post    A+      2220.0   \n",
       "4209  U.S. 2016-11-01 2016-11-07   Google Consumer Surveys     B     26574.0   \n",
       "4210  U.S. 2016-11-02 2016-11-06                     Ipsos    A-      2195.0   \n",
       "4211  U.S. 2016-11-04 2016-11-07                    YouGov     B      3677.0   \n",
       "4212  U.S. 2016-11-03 2016-11-06          Gravis Marketing    B-     16639.0   \n",
       "\n",
       "       poll_wt  clinton_pct  trump_pct multiversions  voter_type   gap  \\\n",
       "4208  8.720654        47.00      43.00           NaN      likely  4.00   \n",
       "4209  7.628472        38.03      35.69           NaN      likely  2.34   \n",
       "4210  6.424334        42.00      39.00           NaN      likely  3.00   \n",
       "4211  6.087135        45.00      41.00           NaN      likely  4.00   \n",
       "4212  5.316449        47.00      43.00           NaN  registered  4.00   \n",
       "\n",
       "      state_gap  swing  \n",
       "4208   4.347514  False  \n",
       "4209   4.347514  False  \n",
       "4210   4.347514  False  \n",
       "4211   4.347514  False  \n",
       "4212   4.347514  False  "
      ]
     },
     "execution_count": 32,
     "metadata": {},
     "output_type": "execute_result"
    }
   ],
   "source": [
    "polls.head()"
   ]
  },
  {
   "cell_type": "code",
   "execution_count": 33,
   "id": "660553fc",
   "metadata": {},
   "outputs": [
    {
     "data": {
      "text/html": [
       "<div>\n",
       "<style scoped>\n",
       "    .dataframe tbody tr th:only-of-type {\n",
       "        vertical-align: middle;\n",
       "    }\n",
       "\n",
       "    .dataframe tbody tr th {\n",
       "        vertical-align: top;\n",
       "    }\n",
       "\n",
       "    .dataframe thead th {\n",
       "        text-align: right;\n",
       "    }\n",
       "</style>\n",
       "<table border=\"1\" class=\"dataframe\">\n",
       "  <thead>\n",
       "    <tr style=\"text-align: right;\">\n",
       "      <th></th>\n",
       "      <th>state</th>\n",
       "      <th>startdate</th>\n",
       "      <th>enddate</th>\n",
       "      <th>pollster</th>\n",
       "      <th>grade</th>\n",
       "      <th>samplesize</th>\n",
       "      <th>poll_wt</th>\n",
       "      <th>clinton_pct</th>\n",
       "      <th>trump_pct</th>\n",
       "      <th>multiversions</th>\n",
       "      <th>voter_type</th>\n",
       "      <th>gap</th>\n",
       "      <th>state_gap</th>\n",
       "      <th>swing</th>\n",
       "    </tr>\n",
       "  </thead>\n",
       "  <tbody>\n",
       "    <tr>\n",
       "      <th>4223</th>\n",
       "      <td>Iowa</td>\n",
       "      <td>2016-11-01</td>\n",
       "      <td>2016-11-04</td>\n",
       "      <td>Selzer &amp; Company</td>\n",
       "      <td>A+</td>\n",
       "      <td>800.0</td>\n",
       "      <td>3.842234</td>\n",
       "      <td>39.0</td>\n",
       "      <td>46.0</td>\n",
       "      <td>NaN</td>\n",
       "      <td>likely</td>\n",
       "      <td>-7.0</td>\n",
       "      <td>-0.809538</td>\n",
       "      <td>True</td>\n",
       "    </tr>\n",
       "    <tr>\n",
       "      <th>4225</th>\n",
       "      <td>Wisconsin</td>\n",
       "      <td>2016-10-26</td>\n",
       "      <td>2016-10-31</td>\n",
       "      <td>Marquette University</td>\n",
       "      <td>A</td>\n",
       "      <td>1255.0</td>\n",
       "      <td>3.789957</td>\n",
       "      <td>46.0</td>\n",
       "      <td>40.0</td>\n",
       "      <td>NaN</td>\n",
       "      <td>likely</td>\n",
       "      <td>6.0</td>\n",
       "      <td>6.929367</td>\n",
       "      <td>True</td>\n",
       "    </tr>\n",
       "  </tbody>\n",
       "</table>\n",
       "</div>"
      ],
      "text/plain": [
       "          state  startdate    enddate              pollster grade  samplesize  \\\n",
       "4223       Iowa 2016-11-01 2016-11-04      Selzer & Company    A+       800.0   \n",
       "4225  Wisconsin 2016-10-26 2016-10-31  Marquette University     A      1255.0   \n",
       "\n",
       "       poll_wt  clinton_pct  trump_pct multiversions voter_type  gap  \\\n",
       "4223  3.842234         39.0       46.0           NaN     likely -7.0   \n",
       "4225  3.789957         46.0       40.0           NaN     likely  6.0   \n",
       "\n",
       "      state_gap  swing  \n",
       "4223  -0.809538   True  \n",
       "4225   6.929367   True  "
      ]
     },
     "execution_count": 33,
     "metadata": {},
     "output_type": "execute_result"
    }
   ],
   "source": [
    "#display rows for swing states\n",
    "##with the query() method\n",
    "polls.query('swing == True').head(2)"
   ]
  },
  {
   "cell_type": "code",
   "execution_count": 34,
   "id": "10c4ee66",
   "metadata": {},
   "outputs": [
    {
     "data": {
      "text/html": [
       "<div>\n",
       "<style scoped>\n",
       "    .dataframe tbody tr th:only-of-type {\n",
       "        vertical-align: middle;\n",
       "    }\n",
       "\n",
       "    .dataframe tbody tr th {\n",
       "        vertical-align: top;\n",
       "    }\n",
       "\n",
       "    .dataframe thead th {\n",
       "        text-align: right;\n",
       "    }\n",
       "</style>\n",
       "<table border=\"1\" class=\"dataframe\">\n",
       "  <thead>\n",
       "    <tr style=\"text-align: right;\">\n",
       "      <th></th>\n",
       "      <th>state</th>\n",
       "      <th>startdate</th>\n",
       "      <th>enddate</th>\n",
       "      <th>pollster</th>\n",
       "      <th>grade</th>\n",
       "      <th>samplesize</th>\n",
       "      <th>poll_wt</th>\n",
       "      <th>clinton_pct</th>\n",
       "      <th>trump_pct</th>\n",
       "      <th>multiversions</th>\n",
       "      <th>voter_type</th>\n",
       "      <th>gap</th>\n",
       "      <th>state_gap</th>\n",
       "      <th>swing</th>\n",
       "    </tr>\n",
       "  </thead>\n",
       "  <tbody>\n",
       "    <tr>\n",
       "      <th>4223</th>\n",
       "      <td>Iowa</td>\n",
       "      <td>2016-11-01</td>\n",
       "      <td>2016-11-04</td>\n",
       "      <td>Selzer &amp; Company</td>\n",
       "      <td>A+</td>\n",
       "      <td>800.0</td>\n",
       "      <td>3.842234</td>\n",
       "      <td>39.0</td>\n",
       "      <td>46.0</td>\n",
       "      <td>NaN</td>\n",
       "      <td>likely</td>\n",
       "      <td>-7.0</td>\n",
       "      <td>-0.809538</td>\n",
       "      <td>True</td>\n",
       "    </tr>\n",
       "    <tr>\n",
       "      <th>4225</th>\n",
       "      <td>Wisconsin</td>\n",
       "      <td>2016-10-26</td>\n",
       "      <td>2016-10-31</td>\n",
       "      <td>Marquette University</td>\n",
       "      <td>A</td>\n",
       "      <td>1255.0</td>\n",
       "      <td>3.789957</td>\n",
       "      <td>46.0</td>\n",
       "      <td>40.0</td>\n",
       "      <td>NaN</td>\n",
       "      <td>likely</td>\n",
       "      <td>6.0</td>\n",
       "      <td>6.929367</td>\n",
       "      <td>True</td>\n",
       "    </tr>\n",
       "  </tbody>\n",
       "</table>\n",
       "</div>"
      ],
      "text/plain": [
       "          state  startdate    enddate              pollster grade  samplesize  \\\n",
       "4223       Iowa 2016-11-01 2016-11-04      Selzer & Company    A+       800.0   \n",
       "4225  Wisconsin 2016-10-26 2016-10-31  Marquette University     A      1255.0   \n",
       "\n",
       "       poll_wt  clinton_pct  trump_pct multiversions voter_type  gap  \\\n",
       "4223  3.842234         39.0       46.0           NaN     likely -7.0   \n",
       "4225  3.789957         46.0       40.0           NaN     likely  6.0   \n",
       "\n",
       "      state_gap  swing  \n",
       "4223  -0.809538   True  \n",
       "4225   6.929367   True  "
      ]
     },
     "execution_count": 34,
     "metadata": {},
     "output_type": "execute_result"
    }
   ],
   "source": [
    "##with the loc accessor\n",
    "polls.loc[polls.swing == True].head(2)"
   ]
  },
  {
   "cell_type": "markdown",
   "id": "c112a8fb",
   "metadata": {},
   "source": [
    "#### Create a new DataFrame in long form"
   ]
  },
  {
   "cell_type": "code",
   "execution_count": 35,
   "id": "5cf016f5",
   "metadata": {},
   "outputs": [],
   "source": [
    "#melt the data to add two columns\n",
    "polls_long = polls.melt(\n",
    "id_vars=['state','enddate','voter_type','state_gap','swing'],\n",
    "value_vars=['clinton_pct', 'trump_pct'],\n",
    "var_name='candidate',\n",
    "value_name='percent')"
   ]
  },
  {
   "cell_type": "code",
   "execution_count": 36,
   "id": "ce7f11fc",
   "metadata": {},
   "outputs": [],
   "source": [
    "#clean up the strings in the candidate column\n",
    "polls_long['candidate'] = polls_long.candidate.str.replace('_pct','').str.title()"
   ]
  },
  {
   "cell_type": "code",
   "execution_count": 37,
   "id": "d355892f",
   "metadata": {},
   "outputs": [
    {
     "data": {
      "text/plain": [
       "<AxesSubplot:xlabel='enddate', ylabel='percent'>"
      ]
     },
     "execution_count": 37,
     "metadata": {},
     "output_type": "execute_result"
    },
    {
     "data": {
      "image/png": "[encoded data removed]",
      "text/plain": [
       "<Figure size 432x288 with 1 Axes>"
      ]
     },
     "metadata": {
      "needs_background": "light"
     },
     "output_type": "display_data"
    }
   ],
   "source": [
    "#take an early plot of the long data with Seaborn\n",
    "colors = ['#2281c4','#d75c5d'] #blue and red\n",
    "sns.set_palette(sns.color_palette(colors)) #change color palette\n",
    "sns.lineplot(data=polls_long, x='enddate', y='percent', hue='candidate', ci=None)"
   ]
  },
  {
   "cell_type": "code",
   "execution_count": 38,
   "id": "fce4a707",
   "metadata": {},
   "outputs": [
    {
     "data": {
      "text/html": [
       "<div>\n",
       "<style scoped>\n",
       "    .dataframe tbody tr th:only-of-type {\n",
       "        vertical-align: middle;\n",
       "    }\n",
       "\n",
       "    .dataframe tbody tr th {\n",
       "        vertical-align: top;\n",
       "    }\n",
       "\n",
       "    .dataframe thead th {\n",
       "        text-align: right;\n",
       "    }\n",
       "</style>\n",
       "<table border=\"1\" class=\"dataframe\">\n",
       "  <thead>\n",
       "    <tr style=\"text-align: right;\">\n",
       "      <th></th>\n",
       "      <th>state</th>\n",
       "      <th>enddate</th>\n",
       "      <th>voter_type</th>\n",
       "      <th>state_gap</th>\n",
       "      <th>swing</th>\n",
       "      <th>candidate</th>\n",
       "      <th>percent</th>\n",
       "      <th>month_bin</th>\n",
       "    </tr>\n",
       "  </thead>\n",
       "  <tbody>\n",
       "    <tr>\n",
       "      <th>0</th>\n",
       "      <td>U.S.</td>\n",
       "      <td>2016-11-06</td>\n",
       "      <td>likely</td>\n",
       "      <td>4.347514</td>\n",
       "      <td>False</td>\n",
       "      <td>Clinton</td>\n",
       "      <td>47.00</td>\n",
       "      <td>Nov 2016</td>\n",
       "    </tr>\n",
       "    <tr>\n",
       "      <th>1</th>\n",
       "      <td>U.S.</td>\n",
       "      <td>2016-11-07</td>\n",
       "      <td>likely</td>\n",
       "      <td>4.347514</td>\n",
       "      <td>False</td>\n",
       "      <td>Clinton</td>\n",
       "      <td>38.03</td>\n",
       "      <td>Nov 2016</td>\n",
       "    </tr>\n",
       "    <tr>\n",
       "      <th>2</th>\n",
       "      <td>U.S.</td>\n",
       "      <td>2016-11-06</td>\n",
       "      <td>likely</td>\n",
       "      <td>4.347514</td>\n",
       "      <td>False</td>\n",
       "      <td>Clinton</td>\n",
       "      <td>42.00</td>\n",
       "      <td>Nov 2016</td>\n",
       "    </tr>\n",
       "    <tr>\n",
       "      <th>3</th>\n",
       "      <td>U.S.</td>\n",
       "      <td>2016-11-07</td>\n",
       "      <td>likely</td>\n",
       "      <td>4.347514</td>\n",
       "      <td>False</td>\n",
       "      <td>Clinton</td>\n",
       "      <td>45.00</td>\n",
       "      <td>Nov 2016</td>\n",
       "    </tr>\n",
       "    <tr>\n",
       "      <th>4</th>\n",
       "      <td>U.S.</td>\n",
       "      <td>2016-11-06</td>\n",
       "      <td>registered</td>\n",
       "      <td>4.347514</td>\n",
       "      <td>False</td>\n",
       "      <td>Clinton</td>\n",
       "      <td>47.00</td>\n",
       "      <td>Nov 2016</td>\n",
       "    </tr>\n",
       "  </tbody>\n",
       "</table>\n",
       "</div>"
      ],
      "text/plain": [
       "  state    enddate  voter_type  state_gap  swing candidate  percent month_bin\n",
       "0  U.S. 2016-11-06      likely   4.347514  False   Clinton    47.00  Nov 2016\n",
       "1  U.S. 2016-11-07      likely   4.347514  False   Clinton    38.03  Nov 2016\n",
       "2  U.S. 2016-11-06      likely   4.347514  False   Clinton    42.00  Nov 2016\n",
       "3  U.S. 2016-11-07      likely   4.347514  False   Clinton    45.00  Nov 2016\n",
       "4  U.S. 2016-11-06  registered   4.347514  False   Clinton    47.00  Nov 2016"
      ]
     },
     "execution_count": 38,
     "metadata": {},
     "output_type": "execute_result"
    }
   ],
   "source": [
    "#add monthly bins to the DataFrame\n",
    "import datetime as dt\n",
    "dates = pd.date_range('10/01/2015', '12/01/2016', freq='M')\n",
    "bin_labels = [dt.datetime.strftime(x, '%b %Y') for x in dates[1:]]\n",
    "monthly_bins = pd.cut(x=polls_long.enddate, bins=dates, labels=bin_labels)\n",
    "polls_long['month_bin'] = monthly_bins\n",
    "polls_long.head()"
   ]
  },
  {
   "cell_type": "code",
   "execution_count": 39,
   "id": "aa4f5db1",
   "metadata": {},
   "outputs": [
    {
     "data": {
      "text/html": [
       "<div>\n",
       "<style scoped>\n",
       "    .dataframe tbody tr th:only-of-type {\n",
       "        vertical-align: middle;\n",
       "    }\n",
       "\n",
       "    .dataframe tbody tr th {\n",
       "        vertical-align: top;\n",
       "    }\n",
       "\n",
       "    .dataframe thead th {\n",
       "        text-align: right;\n",
       "    }\n",
       "</style>\n",
       "<table border=\"1\" class=\"dataframe\">\n",
       "  <thead>\n",
       "    <tr style=\"text-align: right;\">\n",
       "      <th></th>\n",
       "      <th>state</th>\n",
       "      <th>enddate</th>\n",
       "      <th>voter_type</th>\n",
       "      <th>state_gap</th>\n",
       "      <th>swing</th>\n",
       "      <th>candidate</th>\n",
       "      <th>percent</th>\n",
       "      <th>month_bin</th>\n",
       "      <th>month_pct_avg</th>\n",
       "    </tr>\n",
       "  </thead>\n",
       "  <tbody>\n",
       "    <tr>\n",
       "      <th>0</th>\n",
       "      <td>U.S.</td>\n",
       "      <td>2016-11-06</td>\n",
       "      <td>likely</td>\n",
       "      <td>4.347514</td>\n",
       "      <td>False</td>\n",
       "      <td>Clinton</td>\n",
       "      <td>47.00</td>\n",
       "      <td>Nov 2016</td>\n",
       "      <td>45.067903</td>\n",
       "    </tr>\n",
       "    <tr>\n",
       "      <th>1</th>\n",
       "      <td>U.S.</td>\n",
       "      <td>2016-11-07</td>\n",
       "      <td>likely</td>\n",
       "      <td>4.347514</td>\n",
       "      <td>False</td>\n",
       "      <td>Clinton</td>\n",
       "      <td>38.03</td>\n",
       "      <td>Nov 2016</td>\n",
       "      <td>45.067903</td>\n",
       "    </tr>\n",
       "    <tr>\n",
       "      <th>2</th>\n",
       "      <td>U.S.</td>\n",
       "      <td>2016-11-06</td>\n",
       "      <td>likely</td>\n",
       "      <td>4.347514</td>\n",
       "      <td>False</td>\n",
       "      <td>Clinton</td>\n",
       "      <td>42.00</td>\n",
       "      <td>Nov 2016</td>\n",
       "      <td>45.067903</td>\n",
       "    </tr>\n",
       "    <tr>\n",
       "      <th>3</th>\n",
       "      <td>U.S.</td>\n",
       "      <td>2016-11-07</td>\n",
       "      <td>likely</td>\n",
       "      <td>4.347514</td>\n",
       "      <td>False</td>\n",
       "      <td>Clinton</td>\n",
       "      <td>45.00</td>\n",
       "      <td>Nov 2016</td>\n",
       "      <td>45.067903</td>\n",
       "    </tr>\n",
       "    <tr>\n",
       "      <th>4</th>\n",
       "      <td>U.S.</td>\n",
       "      <td>2016-11-06</td>\n",
       "      <td>registered</td>\n",
       "      <td>4.347514</td>\n",
       "      <td>False</td>\n",
       "      <td>Clinton</td>\n",
       "      <td>47.00</td>\n",
       "      <td>Nov 2016</td>\n",
       "      <td>45.067903</td>\n",
       "    </tr>\n",
       "  </tbody>\n",
       "</table>\n",
       "</div>"
      ],
      "text/plain": [
       "  state    enddate  voter_type  state_gap  swing candidate  percent month_bin  \\\n",
       "0  U.S. 2016-11-06      likely   4.347514  False   Clinton    47.00  Nov 2016   \n",
       "1  U.S. 2016-11-07      likely   4.347514  False   Clinton    38.03  Nov 2016   \n",
       "2  U.S. 2016-11-06      likely   4.347514  False   Clinton    42.00  Nov 2016   \n",
       "3  U.S. 2016-11-07      likely   4.347514  False   Clinton    45.00  Nov 2016   \n",
       "4  U.S. 2016-11-06  registered   4.347514  False   Clinton    47.00  Nov 2016   \n",
       "\n",
       "   month_pct_avg  \n",
       "0      45.067903  \n",
       "1      45.067903  \n",
       "2      45.067903  \n",
       "3      45.067903  \n",
       "4      45.067903  "
      ]
     },
     "execution_count": 39,
     "metadata": {},
     "output_type": "execute_result"
    }
   ],
   "source": [
    "#add an average percent column for each month\n",
    "polls_long['month_pct_avg'] = polls_long.groupby(\n",
    "['candidate','state','month_bin']).percent.transform(func='mean')\n",
    "polls_long.head()"
   ]
  },
  {
   "cell_type": "code",
   "execution_count": 40,
   "id": "141eac88",
   "metadata": {},
   "outputs": [],
   "source": [
    "#save the wide and long DataFrames as pickle files\n",
    "polls.to_pickle('polls_prepared.pkl')\n",
    "polls_long.to_pickle('pickle_long.pkl')"
   ]
  },
  {
   "cell_type": "markdown",
   "id": "ccf47953",
   "metadata": {},
   "source": [
    "## Part 5"
   ]
  },
  {
   "cell_type": "markdown",
   "id": "a93000d8",
   "metadata": {},
   "source": [
    "### Analyze the Data"
   ]
  },
  {
   "cell_type": "markdown",
   "id": "1c30d612",
   "metadata": {},
   "source": [
    "#### Plot the national and seing state polls"
   ]
  },
  {
   "cell_type": "code",
   "execution_count": 41,
   "id": "068e7247",
   "metadata": {},
   "outputs": [
    {
     "data": {
      "image/png": "[encoded data removed]",
      "text/plain": [
       "<Figure size 432x288 with 1 Axes>"
      ]
     },
     "metadata": {
      "needs_background": "light"
     },
     "output_type": "display_data"
    }
   ],
   "source": [
    "#the national polls\n",
    "ax = sns.lineplot(data=polls_long.query('state == \"U.S.\"'),\n",
    "                 x='month_bin', y='month_pct_avg', hue='candidate', ci=None)\n",
    "ax.set(title='U.S. Polls', xlabel='Month', ylabel='Average Percent')\n",
    "ax.tick_params('x', labelrotation=45)"
   ]
  },
  {
   "cell_type": "code",
   "execution_count": 42,
   "id": "e6f3ce2b",
   "metadata": {},
   "outputs": [
    {
     "data": {
      "image/png": "[encoded data removed]",
      "text/plain": [
       "<Figure size 432x288 with 1 Axes>"
      ]
     },
     "metadata": {
      "needs_background": "light"
     },
     "output_type": "display_data"
    }
   ],
   "source": [
    "#the swing state polls\n",
    "ax = sns.lineplot(data=polls_long.query('swing == True'),\n",
    "                 x='month_bin', y='month_pct_avg', hue='candidate', ci=None)\n",
    "ax.set(title='Swing State Polls', xlabel='Month', ylabel='Average Percent')\n",
    "ax.tick_params('x', labelrotation=45)"
   ]
  },
  {
   "cell_type": "markdown",
   "id": "6df42aac",
   "metadata": {},
   "source": [
    "### Plot the Voter Types"
   ]
  },
  {
   "cell_type": "markdown",
   "id": "be4ba508",
   "metadata": {},
   "source": [
    "#### Plot the swing state results by voter type"
   ]
  },
  {
   "cell_type": "code",
   "execution_count": 43,
   "id": "80a72dc2",
   "metadata": {},
   "outputs": [],
   "source": [
    "#group the data by voter_type and candidate\n",
    "polls_grouped = polls_long.query('swing == True').groupby(['voter_type', 'candidate'])"
   ]
  },
  {
   "cell_type": "code",
   "execution_count": 44,
   "id": "0b077376",
   "metadata": {},
   "outputs": [
    {
     "data": {
      "text/html": [
       "<div>\n",
       "<style scoped>\n",
       "    .dataframe tbody tr th:only-of-type {\n",
       "        vertical-align: middle;\n",
       "    }\n",
       "\n",
       "    .dataframe tbody tr th {\n",
       "        vertical-align: top;\n",
       "    }\n",
       "\n",
       "    .dataframe thead tr th {\n",
       "        text-align: left;\n",
       "    }\n",
       "\n",
       "    .dataframe thead tr:last-of-type th {\n",
       "        text-align: right;\n",
       "    }\n",
       "</style>\n",
       "<table border=\"1\" class=\"dataframe\">\n",
       "  <thead>\n",
       "    <tr>\n",
       "      <th></th>\n",
       "      <th colspan=\"2\" halign=\"left\">mean</th>\n",
       "      <th colspan=\"2\" halign=\"left\">std</th>\n",
       "    </tr>\n",
       "    <tr>\n",
       "      <th>candidate</th>\n",
       "      <th>Clinton</th>\n",
       "      <th>Trump</th>\n",
       "      <th>Clinton</th>\n",
       "      <th>Trump</th>\n",
       "    </tr>\n",
       "    <tr>\n",
       "      <th>voter_type</th>\n",
       "      <th></th>\n",
       "      <th></th>\n",
       "      <th></th>\n",
       "      <th></th>\n",
       "    </tr>\n",
       "  </thead>\n",
       "  <tbody>\n",
       "    <tr>\n",
       "      <th>likely</th>\n",
       "      <td>42.339206</td>\n",
       "      <td>41.223044</td>\n",
       "      <td>4.672971</td>\n",
       "      <td>5.497081</td>\n",
       "    </tr>\n",
       "    <tr>\n",
       "      <th>registered</th>\n",
       "      <td>42.771795</td>\n",
       "      <td>40.431624</td>\n",
       "      <td>4.433704</td>\n",
       "      <td>4.564361</td>\n",
       "    </tr>\n",
       "  </tbody>\n",
       "</table>\n",
       "</div>"
      ],
      "text/plain": [
       "                 mean                  std          \n",
       "candidate     Clinton      Trump   Clinton     Trump\n",
       "voter_type                                          \n",
       "likely      42.339206  41.223044  4.672971  5.497081\n",
       "registered  42.771795  40.431624  4.433704  4.564361"
      ]
     },
     "execution_count": 44,
     "metadata": {},
     "output_type": "execute_result"
    }
   ],
   "source": [
    "#look at the mean and standard deviation of the percent column\n",
    "polls_grouped.percent.agg(['mean','std']).unstack(level='candidate').head()"
   ]
  },
  {
   "cell_type": "code",
   "execution_count": 45,
   "id": "4c07ab16",
   "metadata": {},
   "outputs": [
    {
     "data": {
      "text/plain": [
       "<seaborn.axisgrid.FacetGrid at 0x7f0203d799b0>"
      ]
     },
     "execution_count": 45,
     "metadata": {},
     "output_type": "execute_result"
    },
    {
     "data": {
      "image/png": "[encoded data removed]",
      "text/plain": [
       "<Figure size 431.25x360 with 1 Axes>"
      ]
     },
     "metadata": {
      "needs_background": "light"
     },
     "output_type": "display_data"
    }
   ],
   "source": [
    "#plot the mean and standard deviation of the percent column for each candidate\n",
    "sns.catplot(data=polls_long.query('swing == True'), kind='bar', x='voter_type', y='percent', hue='candidate', ci='sd')"
   ]
  },
  {
   "cell_type": "markdown",
   "id": "ae429388",
   "metadata": {},
   "source": [
    "#### Plot the last two months of polling"
   ]
  },
  {
   "cell_type": "code",
   "execution_count": 46,
   "id": "5e5af418",
   "metadata": {},
   "outputs": [
    {
     "data": {
      "image/png": "[encoded data removed]",
      "text/plain": [
       "<Figure size 791.25x360 with 1 Axes>"
      ]
     },
     "metadata": {
      "needs_background": "light"
     },
     "output_type": "display_data"
    }
   ],
   "source": [
    "#plot the last two months of polling for likely voters in all swing states\n",
    "g = sns.relplot(data=polls_long.query('voter_type == likely' and 'swing == True' and 'enddate >= \"2016-09\"'),\n",
    "kind='line', x='enddate', y='percent', hue='candidate', ci=None, aspect=2)"
   ]
  },
  {
   "cell_type": "markdown",
   "id": "0cf4a3a5",
   "metadata": {},
   "source": [
    "#### Plot the gap changes in selected states"
   ]
  },
  {
   "cell_type": "code",
   "execution_count": 47,
   "id": "fa3f2f82",
   "metadata": {},
   "outputs": [
    {
     "data": {
      "text/plain": [
       "<seaborn.axisgrid.FacetGrid at 0x7f0203c30ba8>"
      ]
     },
     "execution_count": 47,
     "metadata": {},
     "output_type": "execute_result"
    },
    {
     "data": {
      "image/png": "[encoded data removed]",
      "text/plain": [
       "<Figure size 791.25x720 with 2 Axes>"
      ]
     },
     "metadata": {
      "needs_background": "light"
     },
     "output_type": "display_data"
    }
   ],
   "source": [
    "#plot the last two months of polling for likely voters in selected states\n",
    "sns.relplot(data=polls_long.query('state in [\"Michigan\", \"Florida\"] and voter_type == \"likely\" and enddate >= \"2016-09\"'),\n",
    "kind='line', x='enddate', y='percent', hue='candidate', ci=None, col='state', col_wrap=1, aspect=2)"
   ]
  },
  {
   "cell_type": "code",
   "execution_count": 48,
   "id": "9e946dc3",
   "metadata": {},
   "outputs": [
    {
     "data": {
      "image/png": "[encoded data removed]",
      "text/plain": [
       "<Figure size 720x360 with 2 Axes>"
      ]
     },
     "metadata": {
      "needs_background": "light"
     },
     "output_type": "display_data"
    }
   ],
   "source": [
    "\n",
    "##restore the default color palette\n",
    "sns.set_palette(sns.color_palette('tab10'))\n",
    "\n",
    "#create plot\n",
    "g = sns.relplot(data=polls.query('state==[\"Michigan\", \"Florida\"] and enddate > \"2016-09\"'),\n",
    "              kind=\"line\", x='enddate', y='gap', ci=None, col='state', col_wrap=2)\n",
    "\n",
    "#format the plot \n",
    "g.fig.suptitle('Percent Gap for Key Swing States', y=1.05)\n",
    "g.set(xlabel=\"Polling End Date\", ylabel=\"Percent Gap: Clinton - Trump\")\n",
    "for ax in g.axes.flat:\n",
    "    ax.tick_params('x', labelrotation=45)\n",
    "    ax.axhline(0, color='red')"
   ]
  },
  {
   "cell_type": "markdown",
   "id": "31793561",
   "metadata": {},
   "source": [
    "#### Prepare the gap data for the last week of polling"
   ]
  },
  {
   "cell_type": "code",
   "execution_count": 49,
   "id": "d193e103",
   "metadata": {},
   "outputs": [
    {
     "data": {
      "text/html": [
       "<div>\n",
       "<style scoped>\n",
       "    .dataframe tbody tr th:only-of-type {\n",
       "        vertical-align: middle;\n",
       "    }\n",
       "\n",
       "    .dataframe tbody tr th {\n",
       "        vertical-align: top;\n",
       "    }\n",
       "\n",
       "    .dataframe thead th {\n",
       "        text-align: right;\n",
       "    }\n",
       "</style>\n",
       "<table border=\"1\" class=\"dataframe\">\n",
       "  <thead>\n",
       "    <tr style=\"text-align: right;\">\n",
       "      <th></th>\n",
       "      <th>gap</th>\n",
       "    </tr>\n",
       "    <tr>\n",
       "      <th>state</th>\n",
       "      <th></th>\n",
       "    </tr>\n",
       "  </thead>\n",
       "  <tbody>\n",
       "    <tr>\n",
       "      <th>Arizona</th>\n",
       "      <td>-1.376923</td>\n",
       "    </tr>\n",
       "    <tr>\n",
       "      <th>Florida</th>\n",
       "      <td>0.573500</td>\n",
       "    </tr>\n",
       "    <tr>\n",
       "      <th>Iowa</th>\n",
       "      <td>-4.243846</td>\n",
       "    </tr>\n",
       "    <tr>\n",
       "      <th>Nevada</th>\n",
       "      <td>0.413529</td>\n",
       "    </tr>\n",
       "    <tr>\n",
       "      <th>North Carolina</th>\n",
       "      <td>2.471176</td>\n",
       "    </tr>\n",
       "    <tr>\n",
       "      <th>Ohio</th>\n",
       "      <td>-1.652632</td>\n",
       "    </tr>\n",
       "    <tr>\n",
       "      <th>Pennsylvania</th>\n",
       "      <td>2.608571</td>\n",
       "    </tr>\n",
       "    <tr>\n",
       "      <th>Wisconsin</th>\n",
       "      <td>4.712308</td>\n",
       "    </tr>\n",
       "  </tbody>\n",
       "</table>\n",
       "</div>"
      ],
      "text/plain": [
       "                     gap\n",
       "state                   \n",
       "Arizona        -1.376923\n",
       "Florida         0.573500\n",
       "Iowa           -4.243846\n",
       "Nevada          0.413529\n",
       "North Carolina  2.471176\n",
       "Ohio           -1.652632\n",
       "Pennsylvania    2.608571\n",
       "Wisconsin       4.712308"
      ]
     },
     "execution_count": 49,
     "metadata": {},
     "output_type": "execute_result"
    }
   ],
   "source": [
    "polls_gap = polls.query('state==[\"Wisconsin\",\"Arizona\",\"Pennsylvania\",\"Nevada\",\"Iowa\",\"Florida\",\"North Carolina\",\"Ohio\"] & enddate > \"2016-11-01\"')[['state','gap']]\n",
    "polls_gap = polls_gap.groupby('state').mean()\n",
    "polls_gap"
   ]
  },
  {
   "cell_type": "code",
   "execution_count": 50,
   "id": "725c9f14",
   "metadata": {},
   "outputs": [
    {
     "data": {
      "text/html": [
       "<div>\n",
       "<style scoped>\n",
       "    .dataframe tbody tr th:only-of-type {\n",
       "        vertical-align: middle;\n",
       "    }\n",
       "\n",
       "    .dataframe tbody tr th {\n",
       "        vertical-align: top;\n",
       "    }\n",
       "\n",
       "    .dataframe thead th {\n",
       "        text-align: right;\n",
       "    }\n",
       "</style>\n",
       "<table border=\"1\" class=\"dataframe\">\n",
       "  <thead>\n",
       "    <tr style=\"text-align: right;\">\n",
       "      <th></th>\n",
       "      <th>state</th>\n",
       "      <th>gap</th>\n",
       "      <th>advantage</th>\n",
       "    </tr>\n",
       "  </thead>\n",
       "  <tbody>\n",
       "    <tr>\n",
       "      <th>0</th>\n",
       "      <td>Arizona</td>\n",
       "      <td>1.376923</td>\n",
       "      <td>Trump</td>\n",
       "    </tr>\n",
       "    <tr>\n",
       "      <th>1</th>\n",
       "      <td>Florida</td>\n",
       "      <td>0.573500</td>\n",
       "      <td>Clifton</td>\n",
       "    </tr>\n",
       "    <tr>\n",
       "      <th>2</th>\n",
       "      <td>Iowa</td>\n",
       "      <td>4.243846</td>\n",
       "      <td>Trump</td>\n",
       "    </tr>\n",
       "    <tr>\n",
       "      <th>3</th>\n",
       "      <td>Nevada</td>\n",
       "      <td>0.413529</td>\n",
       "      <td>Clifton</td>\n",
       "    </tr>\n",
       "    <tr>\n",
       "      <th>4</th>\n",
       "      <td>North Carolina</td>\n",
       "      <td>2.471176</td>\n",
       "      <td>Clifton</td>\n",
       "    </tr>\n",
       "    <tr>\n",
       "      <th>5</th>\n",
       "      <td>Ohio</td>\n",
       "      <td>1.652632</td>\n",
       "      <td>Trump</td>\n",
       "    </tr>\n",
       "    <tr>\n",
       "      <th>6</th>\n",
       "      <td>Pennsylvania</td>\n",
       "      <td>2.608571</td>\n",
       "      <td>Clifton</td>\n",
       "    </tr>\n",
       "    <tr>\n",
       "      <th>7</th>\n",
       "      <td>Wisconsin</td>\n",
       "      <td>4.712308</td>\n",
       "      <td>Clifton</td>\n",
       "    </tr>\n",
       "  </tbody>\n",
       "</table>\n",
       "</div>"
      ],
      "text/plain": [
       "            state       gap advantage\n",
       "0         Arizona  1.376923     Trump\n",
       "1         Florida  0.573500   Clifton\n",
       "2            Iowa  4.243846     Trump\n",
       "3          Nevada  0.413529   Clifton\n",
       "4  North Carolina  2.471176   Clifton\n",
       "5            Ohio  1.652632     Trump\n",
       "6    Pennsylvania  2.608571   Clifton\n",
       "7       Wisconsin  4.712308   Clifton"
      ]
     },
     "execution_count": 50,
     "metadata": {},
     "output_type": "execute_result"
    }
   ],
   "source": [
    "polls_gap['advantage'] = polls_gap.apply(\n",
    "lambda row: 'Clifton' if row.gap> 0 else 'Trump', axis=1)\n",
    "polls_gap['gap'] = abs(polls_gap.gap)\n",
    "polls_gap = polls_gap.reset_index()\n",
    "polls_gap"
   ]
  },
  {
   "cell_type": "code",
   "execution_count": 51,
   "id": "5cfb2bc5",
   "metadata": {},
   "outputs": [
    {
     "data": {
      "image/png": "[encoded data removed]",
      "text/plain": [
       "<Figure size 428.375x360 with 1 Axes>"
      ]
     },
     "metadata": {
      "needs_background": "light"
     },
     "output_type": "display_data"
    }
   ],
   "source": [
    "#set custom color palette\n",
    "colors = ['#d75c5d', '#2281c4'] #red and blue\n",
    "sns.set_palette(sns.color_palette(colors))\n",
    "\n",
    "#create the plot\n",
    "g = sns.catplot(data=polls_gap, x='state', y='gap', kind='bar', hue='advantage', dodge=False)\n",
    "\n",
    "#format the plot\n",
    "for ax in g.axes.flat:\n",
    "    ax.tick_params('x', labelrotation=45)\n",
    "    ax.set(title='Gap Percent One Week Before Election Day', \n",
    "          xlabel='Key Swing States',\n",
    "          ylabel='Percent')\n",
    "\n",
    "#save the plot\n",
    "g.fig.subplots_adjust(top=0.90) #adjust the top to fit the title\n",
    "g.fig.subplots_adjust(bottom=0.35) #adjust the bottom to fix the y labels\n",
    "g.fig.savefig('swing_state_gap_bar.png')"
   ]
  },
  {
   "cell_type": "markdown",
   "id": "7430e998",
   "metadata": {},
   "source": [
    "#### Prepare the weekly gap data for the swing states"
   ]
  },
  {
   "cell_type": "code",
   "execution_count": 52,
   "id": "fe84e03f",
   "metadata": {},
   "outputs": [
    {
     "data": {
      "text/html": [
       "<div>\n",
       "<style scoped>\n",
       "    .dataframe tbody tr th:only-of-type {\n",
       "        vertical-align: middle;\n",
       "    }\n",
       "\n",
       "    .dataframe tbody tr th {\n",
       "        vertical-align: top;\n",
       "    }\n",
       "\n",
       "    .dataframe thead th {\n",
       "        text-align: right;\n",
       "    }\n",
       "</style>\n",
       "<table border=\"1\" class=\"dataframe\">\n",
       "  <thead>\n",
       "    <tr style=\"text-align: right;\">\n",
       "      <th></th>\n",
       "      <th>state</th>\n",
       "      <th>clinton_count</th>\n",
       "      <th>trump_count</th>\n",
       "      <th>enddate</th>\n",
       "      <th>weekly_bin</th>\n",
       "    </tr>\n",
       "  </thead>\n",
       "  <tbody>\n",
       "    <tr>\n",
       "      <th>4223</th>\n",
       "      <td>Iowa</td>\n",
       "      <td>31200.0</td>\n",
       "      <td>36800.0</td>\n",
       "      <td>2016-11-04</td>\n",
       "      <td>06 Nov</td>\n",
       "    </tr>\n",
       "    <tr>\n",
       "      <th>4225</th>\n",
       "      <td>Wisconsin</td>\n",
       "      <td>57730.0</td>\n",
       "      <td>50200.0</td>\n",
       "      <td>2016-10-31</td>\n",
       "      <td>06 Nov</td>\n",
       "    </tr>\n",
       "    <tr>\n",
       "      <th>4226</th>\n",
       "      <td>North Carolina</td>\n",
       "      <td>35200.0</td>\n",
       "      <td>35200.0</td>\n",
       "      <td>2016-11-06</td>\n",
       "      <td>06 Nov</td>\n",
       "    </tr>\n",
       "  </tbody>\n",
       "</table>\n",
       "</div>"
      ],
      "text/plain": [
       "               state  clinton_count  trump_count    enddate weekly_bin\n",
       "4223            Iowa        31200.0      36800.0 2016-11-04     06 Nov\n",
       "4225       Wisconsin        57730.0      50200.0 2016-10-31     06 Nov\n",
       "4226  North Carolina        35200.0      35200.0 2016-11-06     06 Nov"
      ]
     },
     "execution_count": 52,
     "metadata": {},
     "output_type": "execute_result"
    }
   ],
   "source": [
    "#get the columns and rows for this plot\n",
    "polls_heat = polls[['state','enddate','samplesize','clinton_pct','trump_pct','swing']].copy()\n",
    "polls_heat = polls_heat.query('swing == True')\n",
    "\n",
    "#add two colums\n",
    "polls_heat['clinton_count'] = polls_heat.samplesize * polls_heat.clinton_pct\n",
    "polls_heat['trump_count'] = polls_heat.samplesize * polls_heat.trump_pct\n",
    "\n",
    "#select only the necessary columns\n",
    "polls_heat = polls_heat[['state','clinton_count','trump_count','enddate']]\n",
    "\n",
    "#create and add the weekly bins\n",
    "dates = pd.date_range('09/01/2016', '11/13/2016', freq='w')\n",
    "bin_labels = [dt.datetime.strftime(x, '%d %b') for x in dates[1:]]\n",
    "weekly_bins = pd.cut(x=polls_heat.enddate, bins=dates, labels=bin_labels)\n",
    "polls_heat['weekly_bin'] = weekly_bins\n",
    "polls_heat.head(3)"
   ]
  },
  {
   "cell_type": "markdown",
   "id": "d4c094c2",
   "metadata": {},
   "source": [
    "#### Calculate weekly gap data"
   ]
  },
  {
   "cell_type": "code",
   "execution_count": 55,
   "id": "df747d8c",
   "metadata": {},
   "outputs": [
    {
     "data": {
      "text/html": [
       "<div>\n",
       "<style scoped>\n",
       "    .dataframe tbody tr th:only-of-type {\n",
       "        vertical-align: middle;\n",
       "    }\n",
       "\n",
       "    .dataframe tbody tr th {\n",
       "        vertical-align: top;\n",
       "    }\n",
       "\n",
       "    .dataframe thead th {\n",
       "        text-align: right;\n",
       "    }\n",
       "</style>\n",
       "<table border=\"1\" class=\"dataframe\">\n",
       "  <thead>\n",
       "    <tr style=\"text-align: right;\">\n",
       "      <th>weekly_bin</th>\n",
       "      <th>11 Sep</th>\n",
       "      <th>18 Sep</th>\n",
       "      <th>25 Sep</th>\n",
       "      <th>02 Oct</th>\n",
       "      <th>09 Oct</th>\n",
       "      <th>16 Oct</th>\n",
       "      <th>23 Oct</th>\n",
       "      <th>30 Oct</th>\n",
       "      <th>06 Nov</th>\n",
       "      <th>13 Nov</th>\n",
       "    </tr>\n",
       "    <tr>\n",
       "      <th>state</th>\n",
       "      <th></th>\n",
       "      <th></th>\n",
       "      <th></th>\n",
       "      <th></th>\n",
       "      <th></th>\n",
       "      <th></th>\n",
       "      <th></th>\n",
       "      <th></th>\n",
       "      <th></th>\n",
       "      <th></th>\n",
       "    </tr>\n",
       "  </thead>\n",
       "  <tbody>\n",
       "    <tr>\n",
       "      <th>Arizona</th>\n",
       "      <td>-3.0</td>\n",
       "      <td>-4.7</td>\n",
       "      <td>-0.6</td>\n",
       "      <td>0.8</td>\n",
       "      <td>0.9</td>\n",
       "      <td>0.6</td>\n",
       "      <td>5.1</td>\n",
       "      <td>-0.3</td>\n",
       "      <td>-1.4</td>\n",
       "      <td>4.0</td>\n",
       "    </tr>\n",
       "    <tr>\n",
       "      <th>Colorado</th>\n",
       "      <td>5.7</td>\n",
       "      <td>2.1</td>\n",
       "      <td>1.3</td>\n",
       "      <td>7.8</td>\n",
       "      <td>6.4</td>\n",
       "      <td>9.5</td>\n",
       "      <td>7.3</td>\n",
       "      <td>7.0</td>\n",
       "      <td>4.5</td>\n",
       "      <td>7.0</td>\n",
       "    </tr>\n",
       "    <tr>\n",
       "      <th>Florida</th>\n",
       "      <td>-1.9</td>\n",
       "      <td>-4.3</td>\n",
       "      <td>-3.0</td>\n",
       "      <td>0.5</td>\n",
       "      <td>0.8</td>\n",
       "      <td>2.3</td>\n",
       "      <td>3.5</td>\n",
       "      <td>1.9</td>\n",
       "      <td>0.9</td>\n",
       "      <td>0.3</td>\n",
       "    </tr>\n",
       "  </tbody>\n",
       "</table>\n",
       "</div>"
      ],
      "text/plain": [
       "weekly_bin  11 Sep  18 Sep  25 Sep  02 Oct  09 Oct  16 Oct  23 Oct  30 Oct  \\\n",
       "state                                                                        \n",
       "Arizona       -3.0    -4.7    -0.6     0.8     0.9     0.6     5.1    -0.3   \n",
       "Colorado       5.7     2.1     1.3     7.8     6.4     9.5     7.3     7.0   \n",
       "Florida       -1.9    -4.3    -3.0     0.5     0.8     2.3     3.5     1.9   \n",
       "\n",
       "weekly_bin  06 Nov  13 Nov  \n",
       "state                       \n",
       "Arizona       -1.4     4.0  \n",
       "Colorado       4.5     7.0  \n",
       "Florida        0.9     0.3  "
      ]
     },
     "execution_count": 55,
     "metadata": {},
     "output_type": "execute_result"
    }
   ],
   "source": [
    "#group and sum the weekly counts by state\n",
    "polls_heat = polls_heat.groupby(['state','weekly_bin']).sum().fillna(0)\n",
    "\n",
    "#add the gap column and remove all other columns\n",
    "polls_heat['gap'] = ((polls_heat.clinton_count - polls_heat.trump_count)/(polls_heat.clinton_count + polls_heat.trump_count)) * 100\n",
    "polls_heat = polls_heat[['gap']].fillna(0).round(1)\n",
    "\n",
    "#unstack the weekly bin level and drop level 0 (gap)\n",
    "polls_heat = polls_heat.unstack(level='weekly_bin')\n",
    "polls_heat = polls_heat.droplevel(level=0, axis=1)\n",
    "polls_heat.head(3)"
   ]
  },
  {
   "cell_type": "markdown",
   "id": "cb6fc795",
   "metadata": {},
   "source": [
    "#### Calculate weekly gap data"
   ]
  },
  {
   "cell_type": "code",
   "execution_count": 57,
   "id": "3f1972bd",
   "metadata": {},
   "outputs": [
    {
     "data": {
      "image/png": "[encoded data removed]",
      "text/plain": [
       "<Figure size 720x540 with 1 Axes>"
      ]
     },
     "metadata": {
      "needs_background": "light"
     },
     "output_type": "display_data"
    }
   ],
   "source": [
    "#use matplotlib to set the figure size\n",
    "import matplotlib.pyplot as plt\n",
    "fig, ax = plt.subplots(figsize=(10,7.5))\n",
    "\n",
    "#create the plot\n",
    "sns.heatmap(polls_heat, cmap=['#d75c5d','#2281c4'], center=0, annot=True, linewidths=0.01, linecolor='black', cbar=False)\n",
    "\n",
    "#format the plot\n",
    "ax.set(title='Gap Percent For Swing States By Week', xlabel='Week', ylabel='State')\n",
    "\n",
    "#save the figure\n",
    "fig.savefig('swing_state_gap_heat_map.png')"
   ]
  },
  {
   "cell_type": "code",
   "execution_count": null,
   "id": "b236d98a",
   "metadata": {},
   "outputs": [],
   "source": []
  }
 ],
 "metadata": {
  "kernelspec": {
   "display_name": "Python [conda env:mlcpuv1]",
   "language": "python",
   "name": "conda-env-mlcpuv1-py"
  },
  "language_info": {
   "codemirror_mode": {
    "name": "ipython",
    "version": 3
   },
   "file_extension": ".py",
   "mimetype": "text/x-python",
   "name": "python",
   "nbconvert_exporter": "python",
   "pygments_lexer": "ipython3",
   "version": "3.6.11"
  },
  "toc-autonumbering": false,
  "toc-showcode": false,
  "toc-showmarkdowntxt": false
 },
 "nbformat": 4,
 "nbformat_minor": 5
}
