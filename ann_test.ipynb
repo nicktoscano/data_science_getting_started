{
 "cells": [
  {
   "cell_type": "markdown",
   "id": "e8229033",
   "metadata": {},
   "source": [
    "### OCI Data Science - Useful Tips\n",
    "<details>\n",
    "<summary><font size=\"2\">Check for Public Internet Access</font></summary>\n",
    "\n",
    "```python\n",
    "import requests\n",
    "response = requests.get(\"https://oracle.com\")\n",
    "assert response.status_code==200, \"Internet connection failed\"\n",
    "```\n",
    "</details>\n",
    "<details>\n",
    "<summary><font size=\"2\">Helpful Documentation </font></summary>\n",
    "<ul><li><a href=\"https://docs.cloud.oracle.com/en-us/iaas/data-science/using/data-science.htm\">Data Science Service Documentation</a></li>\n",
    "<li><a href=\"https://docs.cloud.oracle.com/iaas/tools/ads-sdk/latest/index.html\">ADS documentation</a></li>\n",
    "</ul>\n",
    "</details>\n",
    "<details>\n",
    "<summary><font size=\"2\">Typical Cell Imports and Settings for ADS</font></summary>\n",
    "\n",
    "```python\n",
    "%load_ext autoreload\n",
    "%autoreload 2\n",
    "%matplotlib inline\n",
    "\n",
    "import warnings\n",
    "warnings.filterwarnings('ignore')\n",
    "\n",
    "import logging\n",
    "logging.basicConfig(format='%(levelname)s:%(message)s', level=logging.ERROR)\n",
    "\n",
    "import ads\n",
    "from ads.dataset.factory import DatasetFactory\n",
    "from ads.automl.provider import OracleAutoMLProvider\n",
    "from ads.automl.driver import AutoML\n",
    "from ads.evaluations.evaluator import ADSEvaluator\n",
    "from ads.common.data import ADSData\n",
    "from ads.explanations.explainer import ADSExplainer\n",
    "from ads.explanations.mlx_global_explainer import MLXGlobalExplainer\n",
    "from ads.explanations.mlx_local_explainer import MLXLocalExplainer\n",
    "from ads.catalog.model import ModelCatalog\n",
    "from ads.common.model_artifact import ModelArtifact\n",
    "```\n",
    "</details>\n",
    "<details>\n",
    "<summary><font size=\"2\">Useful Environment Variables</font></summary>\n",
    "\n",
    "```python\n",
    "import os\n",
    "print(os.environ[\"NB_SESSION_COMPARTMENT_OCID\"])\n",
    "print(os.environ[\"PROJECT_OCID\"])\n",
    "print(os.environ[\"USER_OCID\"])\n",
    "print(os.environ[\"TENANCY_OCID\"])\n",
    "print(os.environ[\"NB_REGION\"])\n",
    "```\n",
    "</details>"
   ]
  },
  {
   "cell_type": "code",
   "execution_count": 1,
   "id": "591ca73a",
   "metadata": {},
   "outputs": [],
   "source": [
    "import numpy as np\n",
    "import tensorflow as tf\n",
    "from tensorflow import keras"
   ]
  },
  {
   "cell_type": "code",
   "execution_count": 2,
   "id": "8e625bb8",
   "metadata": {},
   "outputs": [
    {
     "name": "stdout",
     "output_type": "stream",
     "text": [
      "2.7.0\n"
     ]
    }
   ],
   "source": [
    "print(tf.__version__)"
   ]
  },
  {
   "cell_type": "code",
   "execution_count": 3,
   "id": "eb88e1cc",
   "metadata": {},
   "outputs": [],
   "source": [
    "xs = np.array([1.0, 2.0, 3.0, 4.0, 5.0], dtype=float)\n",
    "ys = np.array([1.0, 1.5, 2.0, 2.5, 3.0], dtype=float)"
   ]
  },
  {
   "cell_type": "code",
   "execution_count": 4,
   "id": "73bf7bd3",
   "metadata": {},
   "outputs": [],
   "source": [
    "model = keras.Sequential([keras.layers.Dense(units=1, input_shape=[1])])"
   ]
  },
  {
   "cell_type": "code",
   "execution_count": 6,
   "id": "57d2df56",
   "metadata": {},
   "outputs": [
    {
     "name": "stdout",
     "output_type": "stream",
     "text": [
      "Epoch 1/20\n",
      "1/1 [==============================] - 0s 443ms/step - loss: 5.4004e-05\n",
      "Epoch 2/20\n",
      "1/1 [==============================] - 0s 4ms/step - loss: 5.3641e-05\n",
      "Epoch 3/20\n",
      "1/1 [==============================] - 0s 6ms/step - loss: 5.3278e-05\n",
      "Epoch 4/20\n",
      "1/1 [==============================] - 0s 4ms/step - loss: 5.2918e-05\n",
      "Epoch 5/20\n",
      "1/1 [==============================] - 0s 5ms/step - loss: 5.2561e-05\n",
      "Epoch 6/20\n",
      "1/1 [==============================] - 0s 4ms/step - loss: 5.2206e-05\n",
      "Epoch 7/20\n",
      "1/1 [==============================] - 0s 5ms/step - loss: 5.1854e-05\n",
      "Epoch 8/20\n",
      "1/1 [==============================] - 0s 4ms/step - loss: 5.1504e-05\n",
      "Epoch 9/20\n",
      "1/1 [==============================] - 0s 4ms/step - loss: 5.1156e-05\n",
      "Epoch 10/20\n",
      "1/1 [==============================] - 0s 12ms/step - loss: 5.0811e-05\n",
      "Epoch 11/20\n",
      "1/1 [==============================] - 0s 6ms/step - loss: 5.0468e-05\n",
      "Epoch 12/20\n",
      "1/1 [==============================] - 0s 6ms/step - loss: 5.0127e-05\n",
      "Epoch 13/20\n",
      "1/1 [==============================] - 0s 7ms/step - loss: 4.9788e-05\n",
      "Epoch 14/20\n",
      "1/1 [==============================] - 0s 6ms/step - loss: 4.9453e-05\n",
      "Epoch 15/20\n",
      "1/1 [==============================] - 0s 9ms/step - loss: 4.9119e-05\n",
      "Epoch 16/20\n",
      "1/1 [==============================] - 0s 6ms/step - loss: 4.8787e-05\n",
      "Epoch 17/20\n",
      "1/1 [==============================] - 0s 7ms/step - loss: 4.8458e-05\n",
      "Epoch 18/20\n",
      "1/1 [==============================] - 0s 6ms/step - loss: 4.8131e-05\n",
      "Epoch 19/20\n",
      "1/1 [==============================] - 0s 8ms/step - loss: 4.7806e-05\n",
      "Epoch 20/20\n",
      "1/1 [==============================] - 0s 8ms/step - loss: 4.7483e-05\n"
     ]
    },
    {
     "data": {
      "text/plain": [
       "<keras.callbacks.History at 0x7f9de04c4e50>"
      ]
     },
     "execution_count": 6,
     "metadata": {},
     "output_type": "execute_result"
    }
   ],
   "source": [
    "model.compile(optimizer='sgd', loss='mean_squared_error')\n",
    "model.fit(xs, ys, epochs=20)"
   ]
  },
  {
   "cell_type": "code",
   "execution_count": 7,
   "id": "0997ca1d",
   "metadata": {},
   "outputs": [
    {
     "name": "stdout",
     "output_type": "stream",
     "text": [
      "3.984887\n"
     ]
    }
   ],
   "source": [
    "print(model.predict([7])[0][0])"
   ]
  },
  {
   "cell_type": "code",
   "execution_count": 8,
   "id": "2c9112a6",
   "metadata": {},
   "outputs": [
    {
     "data": {
      "image/png": "[encoded data removed]",
      "text/plain": [
       "<Figure size 640x480 with 1 Axes>"
      ]
     },
     "metadata": {},
     "output_type": "display_data"
    }
   ],
   "source": [
    "import matplotlib.pyplot as plt\n",
    "\n",
    "test = np.array([7, 9, 11, 13])\n",
    "ground_truth = [4, 5, 6, 7]\n",
    "predictions = [y[0] for y in model.predict(test)]\n",
    "plt.scatter(test, ground_truth, c='g')\n",
    "plt.scatter(test, predictions, c='red')\n",
    "plt.show()"
   ]
  },
  {
   "cell_type": "code",
   "execution_count": null,
   "id": "3a04fff8",
   "metadata": {},
   "outputs": [],
   "source": []
  }
 ],
 "metadata": {
  "kernelspec": {
   "display_name": "Python [conda env:tensorflow27_p37_cpu_v1]",
   "language": "python",
   "name": "conda-env-tensorflow27_p37_cpu_v1-py"
  },
  "language_info": {
   "codemirror_mode": {
    "name": "ipython",
    "version": 3
   },
   "file_extension": ".py",
   "mimetype": "text/x-python",
   "name": "python",
   "nbconvert_exporter": "python",
   "pygments_lexer": "ipython3",
   "version": "3.7.12"
  }
 },
 "nbformat": 4,
 "nbformat_minor": 5
}
